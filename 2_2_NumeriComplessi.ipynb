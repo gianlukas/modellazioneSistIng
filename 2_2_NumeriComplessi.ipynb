{
  "nbformat": 4,
  "nbformat_minor": 0,
  "metadata": {
    "colab": {
      "provenance": [],
      "authorship_tag": "ABX9TyNQmCQZmxOFqbr/pJl2cI4p",
      "include_colab_link": true
    },
    "kernelspec": {
      "name": "python3",
      "display_name": "Python 3"
    },
    "language_info": {
      "name": "python"
    }
  },
  "cells": [
    {
      "cell_type": "markdown",
      "metadata": {
        "id": "view-in-github",
        "colab_type": "text"
      },
      "source": [
        "<a href=\"https://colab.research.google.com/github/gianlukas/modellazioneSistIng/blob/main/2_2_NumeriComplessi.ipynb\" target=\"_parent\"><img src=\"https://colab.research.google.com/assets/colab-badge.svg\" alt=\"Open In Colab\"/></a>"
      ]
    },
    {
      "cell_type": "markdown",
      "metadata": {
        "id": "HUHCdM5KzhTm"
      },
      "source": [
        "# Corso di Modellazione dei Sistemi Ingegneristici\n",
        "\n",
        "prof. Gianluca Solazzo\n",
        "\n",
        "email: gianluca.solazzo@unisalento.it"
      ]
    },
    {
      "cell_type": "markdown",
      "source": [
        "<a target=\"_blank\" href=\"https://colab.research.google.com/github/mikexcohen/MasterMathByCodingInPython/blob/main/algebra_1/mathWithPython_algebra1_addPolys.ipynb\">\n",
        "  <img src=\"https://colab.research.google.com/assets/colab-badge.svg\" alt=\"Open In Colab\"/>\n",
        "</a>"
      ],
      "metadata": {
        "id": "JZhUk_36xwBy"
      }
    },
    {
      "cell_type": "markdown",
      "source": [
        "# Numeri complessi"
      ],
      "metadata": {
        "id": "Od0fbIv9aXq5"
      }
    },
    {
      "cell_type": "markdown",
      "source": [
        "## Numeri complessi con le librerie native di Python"
      ],
      "metadata": {
        "id": "54OEgr1VtYKa"
      }
    },
    {
      "cell_type": "code",
      "execution_count": null,
      "metadata": {
        "id": "gc-MHMVkYtLb"
      },
      "outputs": [],
      "source": [
        "(1+3j) + (10+20j)"
      ]
    },
    {
      "cell_type": "code",
      "source": [
        "x = 1+3j\n",
        "(x - 1) ** 2"
      ],
      "metadata": {
        "id": "Cp4NJ5PDapVV"
      },
      "execution_count": null,
      "outputs": []
    },
    {
      "cell_type": "code",
      "source": [
        "x.real"
      ],
      "metadata": {
        "id": "PNMzgjfva2MT"
      },
      "execution_count": null,
      "outputs": []
    },
    {
      "cell_type": "code",
      "source": [
        "x.imag"
      ],
      "metadata": {
        "colab": {
          "base_uri": "https://localhost:8080/"
        },
        "id": "Pli7w7T3a7Ld",
        "outputId": "08b1408d-7777-4cd7-ec17-cce44390cd2b"
      },
      "execution_count": null,
      "outputs": [
        {
          "output_type": "execute_result",
          "data": {
            "text/plain": [
              "3.0"
            ]
          },
          "metadata": {},
          "execution_count": 6
        }
      ]
    },
    {
      "cell_type": "code",
      "source": [
        "type(1+2j)"
      ],
      "metadata": {
        "id": "PL2vBUiVa9cZ"
      },
      "execution_count": null,
      "outputs": []
    },
    {
      "cell_type": "markdown",
      "source": [
        "## Calcolo del valore assoluto e del coniugato di un numero complesso"
      ],
      "metadata": {
        "id": "AlIOvLf7fvkB"
      }
    },
    {
      "cell_type": "code",
      "source": [
        "x = abs(1 + 1j)\n",
        "y = abs(3 + 4j)\n",
        "x"
      ],
      "metadata": {
        "id": "DN4YahAsfuZg"
      },
      "execution_count": null,
      "outputs": []
    },
    {
      "cell_type": "code",
      "source": [
        "y"
      ],
      "metadata": {
        "id": "tKbme8uPf4ZU"
      },
      "execution_count": null,
      "outputs": []
    },
    {
      "cell_type": "code",
      "source": [
        "x.conjugate()"
      ],
      "metadata": {
        "id": "-haQ6B2ogCoi"
      },
      "execution_count": null,
      "outputs": []
    },
    {
      "cell_type": "code",
      "source": [
        "(1 + 4j).conjugate()"
      ],
      "metadata": {
        "id": "3G-Tp6yDgVwq"
      },
      "execution_count": null,
      "outputs": []
    },
    {
      "cell_type": "markdown",
      "source": [
        "## I numeri complessi con sympy"
      ],
      "metadata": {
        "id": "cQey1R9-tiqL"
      }
    },
    {
      "cell_type": "code",
      "source": [
        "import sympy as sym\n",
        "from sympy import re, im, E, I\n",
        "from sympy.abc import x, y, z\n",
        "from IPython.display import display, Math"
      ],
      "metadata": {
        "id": "hqxJMt4hrpOh"
      },
      "execution_count": null,
      "outputs": []
    },
    {
      "cell_type": "code",
      "source": [
        "z = 5 + 4*I\n",
        "w = 9 - 3*I\n",
        "\n",
        "display(Math(sym.latex(sym.expand(z*w))))\n"
      ],
      "metadata": {
        "id": "P5ekYtFxzV1f"
      },
      "execution_count": null,
      "outputs": []
    },
    {
      "cell_type": "code",
      "source": [
        "expr = z**2 + 3*z - 4 + I\n",
        "\n",
        "display(Math(sym.latex(sym.solve(expr))))"
      ],
      "metadata": {
        "id": "1NsXCnT3zVVW"
      },
      "execution_count": null,
      "outputs": []
    },
    {
      "cell_type": "code",
      "source": [
        "expr = z**4 + 23*z**2 +2\n",
        "\n",
        "display(Math(sym.latex(sym.solve(expr))))"
      ],
      "metadata": {
        "id": "t5xe8s3hJQ9J"
      },
      "execution_count": null,
      "outputs": []
    },
    {
      "cell_type": "code",
      "source": [
        "expr = (z - 2*I)**4 - I/2 - sym.sqrt(3)/2\n",
        "\n",
        "display(Math(sym.latex(sym.solve(expr))))"
      ],
      "metadata": {
        "id": "PbqYl3ht13L1"
      },
      "execution_count": null,
      "outputs": []
    },
    {
      "cell_type": "code",
      "source": [
        "expr = 2 *z**2 + 2*z + 1 + I\n",
        "display(Math(sym.latex(sym.solve(expr))))"
      ],
      "metadata": {
        "id": "Zl8opaLT2V5u"
      },
      "execution_count": null,
      "outputs": []
    },
    {
      "cell_type": "markdown",
      "metadata": {
        "id": "c8046f71"
      },
      "source": [
        "## La Trigonometria dei Numeri Complessi\n",
        "\n",
        "Un numero complesso ha una parte reale $ x $ e una parte puramente immaginaria $ y $.\n",
        "\n",
        "Le forme euclidee, polari e trigonometriche di un numero complesso $ z $ sono:\n",
        "\n",
        "$$\n",
        "z = x + iy = re^{i\\theta} = r(\\cos{\\theta} + i \\sin{\\theta})\n",
        "$$\n",
        "\n",
        "La seconda uguaglianza sopra è nota come formula di Eulero.\n",
        "\n",
        "Il coniugato complesso $ \\bar z $ di $ z $ è definito come\n",
        "\n",
        "$$\n",
        "\\bar z = x - iy = r e^{-i \\theta} = r (\\cos{\\theta} - i \\sin{\\theta} )\n",
        "$$\n",
        "\n",
        "Il valore $ x $ è la parte reale di $ z $ e $ y $ è la parte\n",
        "immaginaria di $ z $.\n",
        "\n",
        "Il simbolo $ | z | $ = $ \\sqrt{\\bar{z}\\cdot z} = r $ rappresenta il modulo di $ z $.\n",
        "\n",
        "Il valore $ r $ è la distanza euclidea del vettore $ (x,y) $ dall'origine:\n",
        "\n",
        "$$\n",
        "r = |z| = \\sqrt{x^2 + y^2}\n",
        "$$\n",
        "\n",
        "Il valore $ \\theta $ è l'angolo di $ (x,y) $ rispetto all'asse reale.\n",
        "\n",
        "Evidentemente, la tangente di $ \\theta $ è $ \\left(\\frac{y}{x}\\right) $.\n",
        "\n",
        "Pertanto,\n",
        "\n",
        "$$\n",
        "\\theta = \\tan^{-1} \\Big( \\frac{y}{x} \\Big)\n",
        "$$\n",
        "\n",
        "Tre funzioni trigonometriche elementari sono\n",
        "\n",
        "$$\n",
        "\\cos{\\theta} = \\frac{x}{r} = \\frac{e^{i\\theta} + e^{-i\\theta}}{2} , \\quad\n",
        "\\sin{\\theta} = \\frac{y}{r} = \\frac{e^{i\\theta} - e^{-i\\theta}}{2i} , \\quad\n",
        "\\tan{\\theta} = \\frac{y}{x}\n",
        "$$\n"
      ]
    },
    {
      "cell_type": "markdown",
      "metadata": {
        "id": "dd86aed6"
      },
      "source": [
        "### Esempio\n",
        "Utilizziamo Python per tracciare la forma trigonometrica di un numero complesso. Avremo bisogno degli import seguenti:\n",
        "\n"
      ]
    },
    {
      "cell_type": "code",
      "execution_count": null,
      "metadata": {
        "hide-output": false,
        "id": "b16d8339"
      },
      "outputs": [],
      "source": [
        "import matplotlib.pyplot as plt\n",
        "plt.rcParams[\"figure.figsize\"] = (11, 5)  #set default figure size\n",
        "import numpy as np\n",
        "from sympy import (Symbol, symbols, Eq, nsolve, sqrt, cos, sin, simplify,\n",
        "                  init_printing, integrate)"
      ]
    },
    {
      "cell_type": "markdown",
      "source": [
        "Consideriamo il numero complesso $ z = 1 + \\sqrt{3} i $\n",
        "\n",
        "per il quale $ x = 1 $, $ y = \\sqrt{3} $.\n",
        "\n",
        "Segue che $ r = 2 $ e\n",
        "$ \\theta = \\tan^{-1}(\\sqrt{3}) = \\frac{\\pi}{3} = 60^o $."
      ],
      "metadata": {
        "id": "_SZeGNrnFd-L"
      }
    },
    {
      "cell_type": "code",
      "execution_count": null,
      "metadata": {
        "hide-output": false,
        "id": "0069480c"
      },
      "outputs": [],
      "source": [
        "# assegna il valore di pi greco (π) dalla libreria NumPy alla variabile π, consentendo di utilizzare π come abbreviazione per np.pi durante lo script.\n",
        "π = np.pi\n",
        "\n",
        "\n",
        "# parametri per il grafico polare. r rappresenta il modulo (distanza dall'origine) e θ rappresenta l'argomento (angolo) del numero complesso\n",
        "r = 2\n",
        "θ = π/3\n",
        "\n",
        "# calcola la parte reale del numero complesso\n",
        "x = r * np.cos(θ)\n",
        "\n",
        "# creo due array di valori equispaziati per le coordinate radiali e angolari, rispettivamente, da utilizzare per il grafico.\n",
        "x_range = np.linspace(0, x, 1000)\n",
        "θ_range = np.linspace(0, θ, 1000)\n",
        "\n",
        "# creano una nuova plot e sottoplot con proiezione polare per tracciare la forma trigonometrica del numero complesso\n",
        "fig = plt.figure(figsize=(8, 8))\n",
        "ax = plt.subplot(111, projection='polar')\n",
        "\n",
        "ax.plot((0, θ), (0, r), marker='o', color='b')          #traccia il modulo di r come una linea blu dall'origine al punto che rappresenta il numero complesso nel grafico polare\n",
        "ax.plot(np.zeros(x_range.shape), x_range, color='b')       # traccia la parte reale x come una linea blu lungo l'asse radiale.\n",
        "ax.plot(θ_range, x / np.cos(θ_range), color='b')        #  traccia la parte immaginaria y come una linea blu lungo l'asse angolare.\n",
        "ax.plot(θ_range, np.full(θ_range.shape, 0.1), color='r')  # traccia l'angolo θ come una linea rossa a una distanza fissa dall'origine.\n",
        "\n",
        "ax.margins(0) # regola i margini del grafico per far iniziare il grafico dall'origine.\n",
        "\n",
        "ax.set_title(\"Trigonometria dei numeri complessi\", va='bottom', fontsize='x-large')\n",
        "\n",
        "ax.set_rmax(2)\n",
        "ax.set_rticks((0.5, 1, 1.5, 2))  # impostano il limite radiale massimo e i tick radiali per il grafico\n",
        "ax.set_rlabel_position(-88.5)    # regola la posizione delle etichette radiali per evitare sovrapposizioni con la linea tracciata.\n",
        "\n",
        "ax.text(θ, r+0.01 , r'$z = x + iy = 1 + \\sqrt{3}\\, i$')   # Label z\n",
        "ax.text(θ+0.2, 1 , '$r = 2$')                             # Label r\n",
        "ax.text(0-0.2, 0.5, '$x = 1$')                            # Label x\n",
        "ax.text(0.5, 1.2, r'$y = \\sqrt{3}$')                      # Label y\n",
        "ax.text(0.25, 0.15, r'$\\theta = 60^o$')                   # Label θ\n",
        "\n",
        "ax.grid(True)\n",
        "plt.show()"
      ]
    }
  ]
}