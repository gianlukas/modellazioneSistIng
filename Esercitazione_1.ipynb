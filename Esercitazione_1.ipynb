{
  "nbformat": 4,
  "nbformat_minor": 0,
  "metadata": {
    "colab": {
      "provenance": [],
      "authorship_tag": "ABX9TyPhV2bP44RW8AvXWDbZvz7T",
      "include_colab_link": true
    },
    "kernelspec": {
      "name": "python3",
      "display_name": "Python 3"
    },
    "language_info": {
      "name": "python"
    }
  },
  "cells": [
    {
      "cell_type": "markdown",
      "metadata": {
        "id": "view-in-github",
        "colab_type": "text"
      },
      "source": [
        "<a href=\"https://colab.research.google.com/github/gianlukas/modellazioneSistIng/blob/main/Esercitazione_1.ipynb\" target=\"_parent\"><img src=\"https://colab.research.google.com/assets/colab-badge.svg\" alt=\"Open In Colab\"/></a>"
      ]
    },
    {
      "cell_type": "markdown",
      "metadata": {
        "id": "HUHCdM5KzhTm"
      },
      "source": [
        "# Corso di Modellazione dei Sistemi Ingegneristici\n",
        "\n",
        "prof. Gianluca Solazzo\n",
        "\n",
        "email: gianluca.solazzo@unisalento.it"
      ]
    },
    {
      "cell_type": "markdown",
      "source": [
        "<a target=\"_blank\" href=\"https://colab.research.google.com/github/mikexcohen/MasterMathByCodingInPython/blob/main/algebra_1/mathWithPython_algebra1_addPolys.ipynb\">\n",
        "  <img src=\"https://colab.research.google.com/assets/colab-badge.svg\" alt=\"Open In Colab\"/>\n",
        "</a>"
      ],
      "metadata": {
        "id": "JZhUk_36xwBy"
      }
    },
    {
      "cell_type": "markdown",
      "source": [
        "# Esercitazione"
      ],
      "metadata": {
        "id": "Hq_yiyi8vE1C"
      }
    },
    {
      "cell_type": "markdown",
      "source": [
        "# Esercizio 1\n",
        "\n",
        "Nella città di Indian Wells i costi per il consumo (annuo) dell’acqua potabile – erogata dalla riserva municipale – sono calcolati sommando una quota fissa e una quota variabile, proporzionale ai consumi. La funzione che descrive i costi (in $) in funzione dei consumi (in cubic feet, 1 foot = 30,48 cm) è la seguente:\n",
        "\n",
        "$C(x)  = 0.025*x  +  65$\n",
        "\n",
        "1. Formalizzare la funzione dei consumi con sympy.\n",
        "2. Disegnare il grafico della funzione con matplotlib.\n",
        "3. Calcolare:\n",
        "  * A quanto ammontano i costi fissi?\n",
        "  * Qual è la spesa di un contribuente che consuma 200 metri cubi all’anno?\n",
        "  * Quanto avrà consumato un contribuente che ha ricevuto un bolletta di 93 $?"
      ],
      "metadata": {
        "id": "kNYX-oukvHM6"
      }
    },
    {
      "cell_type": "markdown",
      "source": [
        "### Soluzione"
      ],
      "metadata": {
        "id": "fWxS-7kbDWTa"
      }
    },
    {
      "cell_type": "markdown",
      "source": [
        "## Esercizio 2: Riscaldamento globale"
      ],
      "metadata": {
        "id": "islbsIJs-O9S"
      }
    },
    {
      "cell_type": "markdown",
      "source": [
        "Il gas maggiormente responsabile dell’effetto serra è l’anidride carbonica.\n",
        "In base alla previsione più pessimistica delle Nazioni Unite, la quantità di\n",
        "anidride carbonica nell’atmosfera (in parti di volume per milione) è\n",
        "approssimabile con il seguente modello esponenziale:\n",
        "\n",
        "$C(t)= 277 e^{0.00353 t}\\quad con \\quad 0<=t<=350$\n",
        "\n",
        "dove t è il tempo in anni trascorsi dal 1750 al 2100. Un altro modello di previsione basato su uno scenario “intermedio” sempre delle Nazioni Unite è il seguente:\n",
        "\n",
        "$C^*(t)= 277 e^{0.00267 t}$\n",
        "\n",
        "Scrivere uno script python che:\n",
        "1. Formalizzi i due modelli matematici  con sympy\n",
        "2. Rappresenti graficamente le due funzioni dando la possibilità di confrontare i grafici con matplotlib. Si indichino nel grafico anche i valori corrispondenti all'anno attuale.\n",
        "3. Calcoli la produzione di anidride carbonica nel 2024 secondo i due modelli\n",
        "4. Calcoli il divario medio fra le due previsioni dal 2024 al 2100 con numpy\n",
        "5. Calcoli il tasso di variazione $ΔC/ \\Delta t$"
      ],
      "metadata": {
        "id": "wSIUCnlx-Nja"
      }
    },
    {
      "cell_type": "markdown",
      "source": [
        "###Soluzione"
      ],
      "metadata": {
        "id": "rgGdQDdPDS9x"
      }
    }
  ]
}