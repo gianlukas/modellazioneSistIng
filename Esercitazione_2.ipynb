{
  "cells": [
    {
      "cell_type": "markdown",
      "metadata": {
        "id": "view-in-github",
        "colab_type": "text"
      },
      "source": [
        "<a href=\"https://colab.research.google.com/github/gianlukas/modellazioneSistIng/blob/main/Esercitazione_2.ipynb\" target=\"_parent\"><img src=\"https://colab.research.google.com/assets/colab-badge.svg\" alt=\"Open In Colab\"/></a>"
      ]
    },
    {
      "cell_type": "markdown",
      "metadata": {
        "id": "HUHCdM5KzhTm"
      },
      "source": [
        "# Corso di Modellazione dei Sistemi Ingegneristici\n",
        "\n",
        "prof. Gianluca Solazzo\n",
        "\n",
        "email: gianluca.solazzo@unisalento.it"
      ]
    },
    {
      "cell_type": "markdown",
      "source": [
        "<a target=\"_blank\" href=\"https://colab.research.google.com/github/mikexcohen/MasterMathByCodingInPython/blob/main/algebra_1/mathWithPython_algebra1_addPolys.ipynb\">\n",
        "  <img src=\"https://colab.research.google.com/assets/colab-badge.svg\" alt=\"Open In Colab\"/>\n",
        "</a>"
      ],
      "metadata": {
        "id": "scZ2ZiCAh1Zl"
      }
    },
    {
      "cell_type": "markdown",
      "source": [
        "# Esercitazione progetto\n",
        "\n",
        "I dirigenti di una fabbrica di birra si accorgono che le loro lattine costano troppo. Dovendo conservare la forma cilindrica, il materiale adottato e il volume (33 cl), decidono di agire sulle dimensioni cercando, in particolare, di minimizzare la superﬁcie totale della lattina. Il problema è: come scegliere altezza e raggio di base in modo che la superﬁcie totale sia minima, tenendo il volume costante?\n",
        "\n",
        "Scrivete uno script python che risolva il problema e che visualizzi altezza e raggio di base che minimizzino la superficie totale mantenendo i lvolume costante."
      ],
      "metadata": {
        "id": "fpeq4JZ8S0Il"
      }
    },
    {
      "cell_type": "code",
      "source": [],
      "metadata": {
        "id": "feOu2_SLjtPQ"
      },
      "execution_count": null,
      "outputs": []
    },
    {
      "cell_type": "markdown",
      "source": [
        "## Soluzione\n",
        "\n",
        "Siano $V$ il volume della lattina, $h$ la sua altezza ed $r$ il raggio di base. Rammentiamo che:\n",
        "\n",
        "$V=πhr^2$\n",
        "\n",
        "L’area della superﬁcie totale della lattina è pertanto:\n",
        "\n",
        "$A(r)= 2πr^2 + 2πhr = 2πr^2 + \\frac{2V}{r}$\n",
        "\n",
        "con $2πr^2$ = area dei cerchi di base\n",
        "e $2πhr$ = area laterale\n",
        "\n",
        "..."
      ],
      "metadata": {
        "id": "OoivyqsRj1XA"
      }
    }
  ],
  "metadata": {
    "kernelspec": {
      "display_name": "Python 3",
      "language": "python",
      "name": "python3"
    },
    "language_info": {
      "codemirror_mode": {
        "name": "ipython",
        "version": 3
      },
      "file_extension": ".py",
      "mimetype": "text/x-python",
      "name": "python",
      "nbconvert_exporter": "python",
      "pygments_lexer": "ipython3",
      "version": "3.7.4"
    },
    "colab": {
      "provenance": [],
      "include_colab_link": true
    }
  },
  "nbformat": 4,
  "nbformat_minor": 0
}