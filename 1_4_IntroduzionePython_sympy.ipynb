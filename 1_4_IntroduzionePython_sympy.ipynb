{
  "nbformat": 4,
  "nbformat_minor": 0,
  "metadata": {
    "colab": {
      "provenance": [],
      "authorship_tag": "ABX9TyOtisrMvW4uKrVoVINTzTiP",
      "include_colab_link": true
    },
    "kernelspec": {
      "name": "python3",
      "display_name": "Python 3"
    },
    "language_info": {
      "name": "python"
    }
  },
  "cells": [
    {
      "cell_type": "markdown",
      "metadata": {
        "id": "view-in-github",
        "colab_type": "text"
      },
      "source": [
        "<a href=\"https://colab.research.google.com/github/gianlukas/modellazioneSistIng/blob/main/1_4_IntroduzionePython_sympy.ipynb\" target=\"_parent\"><img src=\"https://colab.research.google.com/assets/colab-badge.svg\" alt=\"Open In Colab\"/></a>"
      ]
    },
    {
      "cell_type": "markdown",
      "source": [
        "# Symbolic Python\n",
        "\n"
      ],
      "metadata": {
        "id": "VqW-aR7U135K"
      }
    },
    {
      "cell_type": "markdown",
      "source": [
        "In matematica e informatica, la computer algebra, chiamata anche calcolo simbolico o calcolo algebrico, è un'area scientifica che si riferisce allo studio e allo sviluppo di algoritmi e software per la manipolazione di espressioni matematiche e altri oggetti matematici.\n",
        "\n",
        "Mathematica, Maple, o MATLAB sono tool per la matematica simbolica."
      ],
      "metadata": {
        "id": "7THXPgPA13y5"
      }
    },
    {
      "cell_type": "markdown",
      "source": [
        "# La libreria Sympy\n",
        "\n",
        "La libreria Symbolic Python aiuta l'esecuzione di calcoli simbolici.\n",
        "Importiamo sympy nel solito modo. Useremo il nickname sp (proprio come abbiamo usato np per numpy).\n",
        "\n",
        "Quando lavoriamo con variabili simboliche dobbiamo effettivamente eseguire il typecast delle variabili quando le nominiamo, cioè dobbiamo dire esplicitamente a Python che stiamo lavorando con i simboli!"
      ],
      "metadata": {
        "id": "WGCT6J9N0p2B"
      }
    },
    {
      "cell_type": "code",
      "source": [
        "import sympy as sp"
      ],
      "metadata": {
        "id": "fYoEuC2SYvhl"
      },
      "execution_count": null,
      "outputs": []
    },
    {
      "cell_type": "markdown",
      "source": [
        "## Usare le variabili symboliche con symbols\n",
        "\n",
        "Per poter utilizzare una varibile simbolica dobbiamo dichiarare a Python il suo tipo. Dobbiamo fare cioè un type-cast esplicito della variabile."
      ],
      "metadata": {
        "id": "scffy8CbZpuP"
      }
    },
    {
      "cell_type": "code",
      "execution_count": null,
      "metadata": {
        "colab": {
          "base_uri": "https://localhost:8080/"
        },
        "id": "QDrkVrM10mdE",
        "outputId": "731385f6-b603-4f1d-b9f2-16a8d6f29e61"
      },
      "outputs": [
        {
          "output_type": "stream",
          "name": "stdout",
          "text": [
            "(x + 2)**3\n"
          ]
        }
      ],
      "source": [
        "x = sp.Symbol('x') # note the capitalization\n",
        "\n",
        "f = (x+2)**3 # A symbolic function\n",
        "print(f)"
      ]
    },
    {
      "cell_type": "code",
      "source": [
        "x = sp.Symbol('x')\n",
        "g = sp.sin(x) # this one works\n",
        "print(g)"
      ],
      "metadata": {
        "colab": {
          "base_uri": "https://localhost:8080/"
        },
        "id": "NpTO6P5v12Cw",
        "outputId": "f6822172-b3fa-4b9c-fe17-492c5483ec83"
      },
      "execution_count": null,
      "outputs": [
        {
          "output_type": "stream",
          "name": "stdout",
          "text": [
            "sin(x)\n"
          ]
        }
      ]
    },
    {
      "cell_type": "markdown",
      "source": [
        "## Symbolic Algebra\n",
        "\n",
        "Vediamo alcuni esempi di utilizzo delle funzioni algebriche con sympy"
      ],
      "metadata": {
        "id": "gGRfEez1Z-W-"
      }
    },
    {
      "cell_type": "code",
      "source": [
        "# Symbolic expand: expand the function f(x) = (x + 2)^3. In other words, multiply this out fully so that it is a sum or difference of monomials instead of the cube of a binomial.\n",
        "\n",
        "import sympy as sp\n",
        "x = sp.Symbol('x')\n",
        "f = (x+2)**3\n",
        "sp.expand(f) # do the multiplication to expand the polynomial"
      ],
      "metadata": {
        "id": "DK7u4p8xaI9p"
      },
      "execution_count": null,
      "outputs": []
    },
    {
      "cell_type": "code",
      "source": [
        "# Symbolic factoring: We will factor the polynomial h(x) = x2 + 4x + 3.\n",
        "\n",
        "import sympy as sp\n",
        "x = sp.Symbol('x')\n",
        "h = x**2 + 4*x + 3\n",
        "sp.factor(h) # factor this polynomial"
      ],
      "metadata": {
        "id": "73NWjR2naT8U"
      },
      "execution_count": null,
      "outputs": []
    },
    {
      "cell_type": "code",
      "source": [
        "# Trigonometric Simplification: The sympy package knows how to work with trigonometric identities. In this example we show how sympy expands sin(a + b).\n",
        "\n",
        "import sympy as sp\n",
        "a, b = sp.symbols('a b')\n",
        "j = sp.sin(a+b)\n",
        "sp.expand(j, trig=True) # Trig identities are built in!"
      ],
      "metadata": {
        "id": "ZWRRZHwdac7o"
      },
      "execution_count": null,
      "outputs": []
    },
    {
      "cell_type": "code",
      "source": [
        "# Symbolic Simplification: In this example we will simplify the function g(x) = x3 + 5x3 + 12x2 + 1.\n",
        "\n",
        "import sympy as sp\n",
        "x = sp.Symbol('x')\n",
        "g = x**3 + 5*x**3 + 12*x**2 + 1\n",
        "sp.simplify(g) # Simplify some algebraic expression"
      ],
      "metadata": {
        "id": "2ck0Kh9Mai-1"
      },
      "execution_count": null,
      "outputs": []
    },
    {
      "cell_type": "code",
      "source": [
        "# Symbolic Equation Solving: We want to solve the equation x2 + 4x + 3 = 0 for x.\n",
        "\n",
        "import sympy as sp\n",
        "x = sp.Symbol('x')\n",
        "h = x**2 + 4*x + 3\n",
        "sp.solve(h,x)"
      ],
      "metadata": {
        "id": "QZzqhNGoaqv_"
      },
      "execution_count": null,
      "outputs": []
    }
  ]
}