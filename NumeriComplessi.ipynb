{
  "nbformat": 4,
  "nbformat_minor": 0,
  "metadata": {
    "colab": {
      "provenance": [],
      "authorship_tag": "ABX9TyNVoOKhbzP1Ep1uio92YDNi",
      "include_colab_link": true
    },
    "kernelspec": {
      "name": "python3",
      "display_name": "Python 3"
    },
    "language_info": {
      "name": "python"
    }
  },
  "cells": [
    {
      "cell_type": "markdown",
      "metadata": {
        "id": "view-in-github",
        "colab_type": "text"
      },
      "source": [
        "<a href=\"https://colab.research.google.com/github/gianlukas/modellazioneSistIng/blob/main/NumeriComplessi.ipynb\" target=\"_parent\"><img src=\"https://colab.research.google.com/assets/colab-badge.svg\" alt=\"Open In Colab\"/></a>"
      ]
    },
    {
      "cell_type": "markdown",
      "source": [
        "# Complex numbers in Python"
      ],
      "metadata": {
        "id": "Od0fbIv9aXq5"
      }
    },
    {
      "cell_type": "code",
      "execution_count": 3,
      "metadata": {
        "colab": {
          "base_uri": "https://localhost:8080/"
        },
        "id": "gc-MHMVkYtLb",
        "outputId": "a2ff3d28-eb9c-4376-804e-f79e0b1d4757"
      },
      "outputs": [
        {
          "output_type": "execute_result",
          "data": {
            "text/plain": [
              "(11+23j)"
            ]
          },
          "metadata": {},
          "execution_count": 3
        }
      ],
      "source": [
        "(1+3j) + (10+20j)"
      ]
    },
    {
      "cell_type": "code",
      "source": [
        "x = 1+3j\n",
        "(x - 1) ** 2"
      ],
      "metadata": {
        "colab": {
          "base_uri": "https://localhost:8080/"
        },
        "id": "Cp4NJ5PDapVV",
        "outputId": "390132b8-b432-4e36-af7b-863dcc77b7b5"
      },
      "execution_count": 4,
      "outputs": [
        {
          "output_type": "execute_result",
          "data": {
            "text/plain": [
              "(-9+0j)"
            ]
          },
          "metadata": {},
          "execution_count": 4
        }
      ]
    },
    {
      "cell_type": "code",
      "source": [
        "x.real"
      ],
      "metadata": {
        "colab": {
          "base_uri": "https://localhost:8080/"
        },
        "id": "PNMzgjfva2MT",
        "outputId": "a4b57147-a611-4f70-cf29-ef76cdda30bc"
      },
      "execution_count": 5,
      "outputs": [
        {
          "output_type": "execute_result",
          "data": {
            "text/plain": [
              "1.0"
            ]
          },
          "metadata": {},
          "execution_count": 5
        }
      ]
    },
    {
      "cell_type": "code",
      "source": [
        "x.imag"
      ],
      "metadata": {
        "colab": {
          "base_uri": "https://localhost:8080/"
        },
        "id": "Pli7w7T3a7Ld",
        "outputId": "08b1408d-7777-4cd7-ec17-cce44390cd2b"
      },
      "execution_count": 6,
      "outputs": [
        {
          "output_type": "execute_result",
          "data": {
            "text/plain": [
              "3.0"
            ]
          },
          "metadata": {},
          "execution_count": 6
        }
      ]
    },
    {
      "cell_type": "code",
      "source": [
        "type(1+2j)"
      ],
      "metadata": {
        "colab": {
          "base_uri": "https://localhost:8080/"
        },
        "id": "PL2vBUiVa9cZ",
        "outputId": "00486d1a-1a52-4bcb-e1bb-5c3a1637b140"
      },
      "execution_count": 9,
      "outputs": [
        {
          "output_type": "execute_result",
          "data": {
            "text/plain": [
              "complex"
            ]
          },
          "metadata": {},
          "execution_count": 9
        }
      ]
    },
    {
      "cell_type": "markdown",
      "source": [
        "Scriviamo una funzione python che calcola il modulo di un numero complesso e lo grafica su un piano.\n",
        "Utilizziamo matplotlib per realizzare il grafico, visualizzando i risultati in linea."
      ],
      "metadata": {
        "id": "MkV_Z5oJbKTq"
      }
    },
    {
      "cell_type": "code",
      "source": [
        "import numpy as np\n",
        "%matplotlib inline\n",
        "import matplotlib\n",
        "import matplotlib.pyplot as plt\n",
        "import seaborn as sns\n",
        "\n",
        "sns.set()\n",
        "matplotlib.rcParams['figure.figsize'] = (8, 8)\n",
        "\n",
        "def plot_complex_points(complex_points, xlim=(0, 10), ylim=(0, 10)):\n",
        "    plt.scatter([p.real for p in complex_points], [p.imag for p in complex_points])\n",
        "    plt.xlim(xlim)\n",
        "    plt.ylim(ylim)"
      ],
      "metadata": {
        "id": "_7oPDt5QbA-s"
      },
      "execution_count": 10,
      "outputs": []
    },
    {
      "cell_type": "markdown",
      "source": [
        "Assegnamo alla variabile S una lista costituito da alcuni numeri complessi ed invochiamo la funzione scritta in precedenza"
      ],
      "metadata": {
        "id": "v_Tlc2lJbrtB"
      }
    },
    {
      "cell_type": "code",
      "source": [
        "S = {2 + 5j, 3 + 2j, 1.95 + 3j, 2.5 + 1j, 2.25 + 1j, 2.5 + 5.5j, 2.75 + 1j, 3 + 3j, 3.25 + 1j}\n",
        "plot_complex_points(S)"
      ],
      "metadata": {
        "colab": {
          "base_uri": "https://localhost:8080/",
          "height": 687
        },
        "id": "ayqXUwm4b6el",
        "outputId": "5cab5a5d-466c-4073-8d92-23d750ae31aa"
      },
      "execution_count": 13,
      "outputs": [
        {
          "output_type": "display_data",
          "data": {
            "text/plain": [
              "<Figure size 800x800 with 1 Axes>"
            ],
            "image/png": "[encoded data removed]"
          },
          "metadata": {}
        }
      ]
    }
  ]
}