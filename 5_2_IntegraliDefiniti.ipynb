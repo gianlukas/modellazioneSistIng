{
  "cells": [
    {
      "cell_type": "markdown",
      "metadata": {
        "id": "view-in-github",
        "colab_type": "text"
      },
      "source": [
        "<a href=\"https://colab.research.google.com/github/gianlukas/modellazioneSistIng/blob/main/5_2_IntegraliDefiniti.ipynb\" target=\"_parent\"><img src=\"https://colab.research.google.com/assets/colab-badge.svg\" alt=\"Open In Colab\"/></a>"
      ]
    },
    {
      "cell_type": "markdown",
      "metadata": {
        "id": "HUHCdM5KzhTm"
      },
      "source": [
        "# Corso di Modellazione dei Sistemi Ingegneristici\n",
        "\n",
        "prof. Gianluca Solazzo\n",
        "\n",
        "email: gianluca.solazzo@unisalento.it"
      ]
    },
    {
      "cell_type": "markdown",
      "source": [
        "<a target=\"_blank\" href=\"https://colab.research.google.com/github/mikexcohen/MasterMathByCodingInPython/blob/main/algebra_1/mathWithPython_algebra1_addPolys.ipynb\">\n",
        "  <img src=\"https://colab.research.google.com/assets/colab-badge.svg\" alt=\"Open In Colab\"/>\n",
        "</a>"
      ],
      "metadata": {
        "id": "scZ2ZiCAh1Zl"
      }
    },
    {
      "cell_type": "markdown",
      "metadata": {
        "id": "w7jt8bOW6Evn"
      },
      "source": [
        "# Integrazione Numerica\n",
        "\n",
        "L'integrale definito rappresenta l'area (netta) al di sotto della curva del grafico di $y=f(x)$ nell'intervallo $[a,b]$.\n",
        "\n",
        "$$\n",
        "\\int_a^b f(x) \\, dx = \\text{area netta sottesa dalla curva } y = f(x) \\text{ su } [a,b]\n",
        "$$\n",
        "\n",
        "Il termine \"netto\" significa che l'area sopra l'asse $x$ è positiva e l'area sotto l'asse $x$ conta come area negativa.\n",
        "\n",
        "Ad esempio, possiamo visualizzare l'integrale:\n",
        "\n",
        "$$\n",
        "\\int_{\\pi/2}^{3\\pi/2} \\left( \\sin(0.2 x) + \\sin(2x) + 1 \\right) dx\n",
        "$$"
      ]
    },
    {
      "cell_type": "code",
      "execution_count": null,
      "metadata": {
        "id": "ByFJAbWM6Evr",
        "outputId": "6514084e-1174-4a55-d97e-0fa3e0d1ec1d",
        "colab": {
          "base_uri": "https://localhost:8080/",
          "height": 431
        }
      },
      "outputs": [
        {
          "output_type": "display_data",
          "data": {
            "text/plain": [
              "<Figure size 640x480 with 1 Axes>"
            ],
            "image/png": "[encoded data removed]"
          },
          "metadata": {}
        }
      ],
      "source": [
        "import numpy as np\n",
        "import matplotlib.pyplot as plt\n",
        "\n",
        "f = lambda x: np.sin(0.2*x) + np.sin(2*x) + 1\n",
        "\n",
        "x = np.linspace(0,2*np.pi,100)\n",
        "y = f(x)\n",
        "plt.plot(x,y)\n",
        "\n",
        "X = np.linspace(np.pi/2,3*np.pi/2,100)\n",
        "Y = f(X)\n",
        "plt.fill_between(X,Y)\n",
        "\n",
        "plt.xticks([np.pi/2,3*np.pi/2],['$\\pi/2$','$3\\pi/2$']); plt.yticks([]);\n",
        "plt.xlim([0,2*np.pi]);\n",
        "plt.ylim([0,3]);\n",
        "plt.show()"
      ]
    },
    {
      "cell_type": "markdown",
      "metadata": {
        "id": "GUIEau_C6Evt"
      },
      "source": [
        "Dal teorema fondamentale del calcolo integrale sappiamo che, per calcolare l'integrale definito, possiamo procedere in questo modo:\n",
        "\n",
        "$$\n",
        "\\int_0^{\\pi/2} \\cos(x) \\, dx = \\sin(\\pi/2) - \\sin(0) = 1\n",
        "$$\n",
        "\n",
        "Tuttavia, la maggior parte degli integrali definiti è impossibile da risolvere esattamente. Ad esempio, la famosa funzione di errore in probabilità\n",
        "\n",
        "$$\n",
        "\\mathrm{erf}(x) = \\frac{2}{\\sqrt{\\pi}} \\int_0^x e^{-t^2} dt\n",
        "$$\n",
        "\n",
        "è un integrale definito per il quale non esiste una formula esplicita.\n",
        "\n",
        "L'idea alla base dell'integrazione numerica è quella di utilizzare semplici forme geometriche per approssimare l'area sotto la curva $y=f(x)$ per stimare integrali definiti.\n",
        "\n",
        "Studiamo i metodi più semplici di integrazione numerica: le somme di Riemann, la regola del trapezio."
      ]
    },
    {
      "cell_type": "markdown",
      "metadata": {
        "id": "qWl0c3aR9Ft3"
      },
      "source": [
        "## Somme di Riemann"
      ]
    },
    {
      "cell_type": "code",
      "execution_count": null,
      "metadata": {
        "id": "FUe2aELg9Ft5"
      },
      "outputs": [],
      "source": [
        "import numpy as np\n",
        "import matplotlib.pyplot as plt"
      ]
    },
    {
      "cell_type": "markdown",
      "source": [
        "Una somma di Riemann di una funzione $f(x)$ su una partizione\n",
        "\n",
        "$$\n",
        "x_0 = a < x_1 < \\cdots < x_{N-1} < x_N = b\n",
        "$$\n",
        "\n",
        "è una somma della forma\n",
        "\n",
        "$$\n",
        "\\sum_{i=1}^N f(x_i^ * ) (x_i - x_{i-1}) \\ \\ , \\ x_i^* \\in [x_{i-1},x_i]\n",
        "$$\n",
        "\n",
        "dove ogni valore $x_i^* \\in [x_{i-1},x_i]$ in ciascun sottointervallo è arbitrario.\n",
        "\n",
        "Le somme di Riemann sono importanti perché forniscono un modo semplice per approssimare un integrale definito\n",
        "\n",
        "$$\n",
        "\\int_a^b f(x) \\, dx \\approx \\sum_{i=1}^N f(x_i^ * ) (x_i - x_{i-1}) \\ \\ , \\ x_i^* \\in [x_{i -1},x_i]\n",
        "$$\n",
        "\n",
        "Si noti che il prodotto $f(x_i^ * ) (x_i - x_{i-1})$ per ogni $i$ è l'area di un rettangolo di altezza $f(x_i^ * )$ e larghezza $x_i - x_{ i-1}$. Possiamo pensare ad una somma di Riemann come all'area dei rettangoli $N$ con altezze determinate dal grafico di $y=f(x)$.\n",
        "\n",
        "Il valore $x_i^*$ scelto in ciascun sottointervallo è arbitrario, tuttavia esistono alcune scelte ovvie:\n",
        "\n",
        "* Una somma di Riemann a *sinistra* si ha quando ogni $x_i^* = x_{i-1}$ è l'estremo sinistro del sottointervallo $[x_{i-1},x_i]$\n",
        "* Una somma di Riemann a *destra* si ha quando ogni $x_i^* = x_i$ è l'estremo destro del sottointervallo $[x_{i-1},x_i]$\n",
        "* Una somma di Riemann nel *punto medio* si ha quando ogni $x_i^* = (x_{i-1} + x_i)/2$ è il punto medio del sottointervallo $[x_{i-1},x_i]$\n",
        "\n",
        "Visualizziamo i rettangoli nelle somme di Riemann sinistra, destra e nel punto medio della funzione\n",
        "\n",
        "$$\n",
        "f(x) = \\frac{1}{1 + x^2}\n",
        "$$\n",
        "\n",
        "nell'intervallo $[0,5]$ con una partizione di dimensione $N=10$."
      ],
      "metadata": {
        "id": "_FTBV-r_9YAJ"
      }
    },
    {
      "cell_type": "code",
      "execution_count": null,
      "metadata": {
        "colab": {
          "base_uri": "https://localhost:8080/",
          "height": 468
        },
        "id": "q6wgkgvj9Ft7",
        "outputId": "c68154d7-8d5b-4224-df5d-a859d99c47bb"
      },
      "outputs": [
        {
          "output_type": "display_data",
          "data": {
            "text/plain": [
              "<Figure size 1500x500 with 3 Axes>"
            ],
            "image/png": "[encoded data removed]"
          },
          "metadata": {}
        }
      ],
      "source": [
        "f = lambda x : 1/(1+x**2)\n",
        "a = 0; b = 5; N = 10\n",
        "n = 10 # Use n*N+1 points to plot the function smoothly\n",
        "\n",
        "x = np.linspace(a,b,N+1)\n",
        "y = f(x)\n",
        "\n",
        "X = np.linspace(a,b,n*N+1)\n",
        "Y = f(X)\n",
        "\n",
        "plt.figure(figsize=(15,5))\n",
        "\n",
        "plt.subplot(1,3,1)\n",
        "plt.plot(X,Y,'b')\n",
        "x_left = x[:-1] # Left endpoints\n",
        "y_left = y[:-1]\n",
        "plt.plot(x_left,y_left,'b.',markersize=10)\n",
        "plt.bar(x_left,y_left,width=(b-a)/N,alpha=0.2,align='edge',edgecolor='b')\n",
        "plt.title('Left Riemann Sum, N = {}'.format(N))\n",
        "\n",
        "plt.subplot(1,3,2)\n",
        "plt.plot(X,Y,'b')\n",
        "x_mid = (x[:-1] + x[1:])/2 # Midpoints\n",
        "y_mid = f(x_mid)\n",
        "plt.plot(x_mid,y_mid,'b.',markersize=10)\n",
        "plt.bar(x_mid,y_mid,width=(b-a)/N,alpha=0.2,edgecolor='b')\n",
        "plt.title('Midpoint Riemann Sum, N = {}'.format(N))\n",
        "\n",
        "plt.subplot(1,3,3)\n",
        "plt.plot(X,Y,'b')\n",
        "x_right = x[1:] # Left endpoints\n",
        "y_right = y[1:]\n",
        "plt.plot(x_right,y_right,'b.',markersize=10)\n",
        "plt.bar(x_right,y_right,width=-(b-a)/N,alpha=0.2,align='edge',edgecolor='b')\n",
        "plt.title('Right Riemann Sum, N = {}'.format(N))\n",
        "\n",
        "plt.show()"
      ]
    },
    {
      "cell_type": "markdown",
      "metadata": {
        "id": "3nOlo7Vl9Ft8"
      },
      "source": [
        "Si noti che quando la funzione $f(x)$ decresce su $[a,b]$ gli estremi di sinistra danno una sovrastima dell'integrale $\\int_a^b f(x) dx$ e gli estremi di destra danno una sottostima. È vero il contrario quando la funzione è crescente."
      ]
    },
    {
      "cell_type": "markdown",
      "metadata": {
        "id": "cdN6rB5I9Ft8"
      },
      "source": [
        "Calcoliamo il valore di ciascuna delle somme di Riemann:"
      ]
    },
    {
      "cell_type": "code",
      "execution_count": null,
      "metadata": {
        "id": "oQfSK_s69Ft8",
        "outputId": "3a3ebad8-6179-4223-b6ef-02c4043dbc01",
        "colab": {
          "base_uri": "https://localhost:8080/"
        }
      },
      "outputs": [
        {
          "output_type": "stream",
          "name": "stdout",
          "text": [
            "Partition with 10 subintervals.\n",
            "Left Riemann Sum: 1.613488696614725\n",
            "Midpoint Riemann Sum: 1.373543428316664\n",
            "Right Riemann Sum: 1.1327194658454942\n"
          ]
        }
      ],
      "source": [
        "dx = (b-a)/N\n",
        "x_left = np.linspace(a,b-dx,N)\n",
        "x_midpoint = np.linspace(dx/2,b - dx/2,N)\n",
        "x_right = np.linspace(dx,b,N)\n",
        "\n",
        "print(\"Partition with\",N,\"subintervals.\")\n",
        "left_riemann_sum = np.sum(f(x_left) * dx)\n",
        "print(\"Left Riemann Sum:\",left_riemann_sum)\n",
        "\n",
        "midpoint_riemann_sum = np.sum(f(x_midpoint) * dx)\n",
        "print(\"Midpoint Riemann Sum:\",midpoint_riemann_sum)\n",
        "\n",
        "right_riemann_sum = np.sum(f(x_right) * dx)\n",
        "print(\"Right Riemann Sum:\",right_riemann_sum)"
      ]
    },
    {
      "cell_type": "markdown",
      "metadata": {
        "id": "fzi6Ziu_9Ft9"
      },
      "source": [
        "Mentre il valore esatto è:\n",
        "\n",
        "$$\n",
        "\\int_0^5 \\frac{1}{1 + x^2} dx = \\arctan(5)\n",
        "$$\n",
        "\n",
        "e possiamo confrontare le somme di Riemann con il valore esatto"
      ]
    },
    {
      "cell_type": "code",
      "execution_count": null,
      "metadata": {
        "id": "4PEO2miM9Ft9",
        "outputId": "98a96750-086e-4738-bd28-91961e3bffdb"
      },
      "outputs": [
        {
          "name": "stdout",
          "output_type": "stream",
          "text": [
            "1.373400766945016\n"
          ]
        }
      ],
      "source": [
        "I = np.arctan(5)\n",
        "print(I)"
      ]
    },
    {
      "cell_type": "code",
      "execution_count": null,
      "metadata": {
        "id": "LJ62fUxR9Ft9",
        "outputId": "ecbb2d47-5fbd-4d2e-aecc-eb78993b8ae7"
      },
      "outputs": [
        {
          "name": "stdout",
          "output_type": "stream",
          "text": [
            "Left Riemann Sum Error: 0.24008792966970915\n",
            "Midpoint Riemann Sum: 0.00014266137164820059\n",
            "Right Riemann Sum: 0.24068130109952168\n"
          ]
        }
      ],
      "source": [
        "print(\"Left Riemann Sum Error:\",np.abs(left_riemann_sum - I))\n",
        "print(\"Midpoint Riemann Sum:\",np.abs(midpoint_riemann_sum - I))\n",
        "print(\"Right Riemann Sum:\",np.abs(right_riemann_sum - I))"
      ]
    },
    {
      "cell_type": "markdown",
      "source": [
        "## La regola del Trapezioide\n",
        "\n",
        "L'integrale definito di $f(x)$ è uguale all'area (netta) sottesa dalla curva $y=f(x)$ nell'intervallo $[a,b]$. Riemann somma gli integrali definiti approssimati utilizzando le somme dei rettangoli per approssimare l'area.\n",
        "\n",
        "La regola del trapezio fornisce una migliore approssimazione di un integrale definito sommando le aree dei trapezi che collegano i punti\n",
        "\n",
        "$$\n",
        "(x_{i-1},0), (x_i,0), (x_{i-1},f(x_{i-1})), (x_i,f(x_i))\n",
        "$$\n",
        "\n",
        "per ogni sottointervallo $[x_{i-1},x_i]$ di una partizione.\n",
        "\n",
        "Nota che l'area di ciascun trapezio è la somma di un rettangolo e di un triangolo\n",
        "\n",
        "$$\n",
        "(x_i - x_{i-1}) f(x_{i-1}) + \\frac{1}{2}(x_i - x_{i-1}) (f(x_i) - f(x_{i- 1})) = \\frac{1}{2}(f(x_i) + f(x_{i-1}))(x_i - x_{i-1})\n",
        "$$\n",
        "\n",
        "Ad esempio, possiamo utilizzare un singolo trapezio per approssimare:\n",
        "\n",
        "$$\n",
        "\\int_0^1 e^{-x^2} \\, dx\n",
        "$$\n",
        "\n",
        "Innanzitutto, tracciamo la curva $y = e^{-x^2}$ e il trapezio sull'intervallo $[0,1]$:"
      ],
      "metadata": {
        "id": "pbQ3ODJ2A2jo"
      }
    },
    {
      "cell_type": "code",
      "execution_count": null,
      "metadata": {
        "id": "iS2EEqapAt_T",
        "outputId": "4e45023e-2cfc-4a45-a15a-70887d51c3e6",
        "colab": {
          "base_uri": "https://localhost:8080/",
          "height": 430
        }
      },
      "outputs": [
        {
          "output_type": "display_data",
          "data": {
            "text/plain": [
              "<Figure size 640x480 with 1 Axes>"
            ],
            "image/png": "[encoded data removed]"
          },
          "metadata": {}
        }
      ],
      "source": [
        "x = np.linspace(-0.5,1.5,100)\n",
        "y = np.exp(-x**2)\n",
        "plt.plot(x,y)\n",
        "\n",
        "x0 = 0; x1 = 1;\n",
        "y0 = np.exp(-x0**2); y1 = np.exp(-x1**2);\n",
        "plt.fill_between([x0,x1],[y0,y1])\n",
        "\n",
        "plt.xlim([-0.5,1.5]); plt.ylim([0,1.5]);\n",
        "plt.show()"
      ]
    },
    {
      "cell_type": "markdown",
      "metadata": {
        "id": "c7zPnLkwAt_U"
      },
      "source": [
        "Approssima l'integrale per l'area del trapezio:"
      ]
    },
    {
      "cell_type": "code",
      "execution_count": null,
      "metadata": {
        "id": "Zuh2-ypyAt_U",
        "outputId": "8d6af271-92a3-4169-d733-a2809a53f1c4",
        "colab": {
          "base_uri": "https://localhost:8080/"
        }
      },
      "outputs": [
        {
          "output_type": "stream",
          "name": "stdout",
          "text": [
            "Trapezoid area: 0.6839397205857212\n"
          ]
        }
      ],
      "source": [
        "A = 0.5*(y1 + y0)*(x1 - x0)\n",
        "print(\"Trapezoid area:\", A)"
      ]
    },
    {
      "cell_type": "markdown",
      "metadata": {
        "id": "juP1AYTkAt_U"
      },
      "source": [
        "### Definizione\n",
        "\n",
        "La **regola del trapezio** per sottointervalli $N$ di $[a,b]$ di uguale lunghezza è\n",
        "\n",
        "$$\n",
        "T_N(f) = \\frac{\\Delta x}{2} \\sum_{i=1}^N (f(x_i) + f(x_{i-1}))\n",
        "$$\n",
        "\n",
        "dove $\\Delta x = (b - a)/N$ è la lunghezza dei sottointervalli e $x_i = a + i \\Delta x$.\n",
        "\n",
        "Nota che il trapezio è la media delle somme di Riemann sinistra e destra\n",
        "\n",
        "$$\n",
        "T_N(f) = \\frac{\\Delta x}{2} \\sum_{i=1}^N (f(x_i) + f(x_{i-1})) = \\frac{1}{2} \\left( \\sum_{i=1}^N f(x_i) \\Delta x + \\sum_{i=1}^N f(x_{i-1}) \\Delta x \\right)\n",
        "$$"
      ]
    },
    {
      "cell_type": "markdown",
      "metadata": {
        "id": "hO225gPdAt_U"
      },
      "source": [
        "### Implementazione\n",
        "\n",
        "Scriviamo una funzione chiamata `trapz` che accetta i parametri di input $f$, $a$, $b$ e $N$ e restituisce l'approssimazione $T_N(f)$. Inoltre, assegniamo il valore predefinito $N=50$."
      ]
    },
    {
      "cell_type": "code",
      "execution_count": null,
      "metadata": {
        "id": "8T7jzSEkAt_U"
      },
      "outputs": [],
      "source": [
        "def trapz(f,a,b,N=50):\n",
        "    '''Approximate the integral of f(x) from a to b by the trapezoid rule.\n",
        "\n",
        "    The trapezoid rule approximates the integral \\int_a^b f(x) dx by the sum:\n",
        "    (dx/2) \\sum_{k=1}^N (f(x_k) + f(x_{k-1}))\n",
        "    where x_k = a + k*dx and dx = (b - a)/N.\n",
        "\n",
        "    Parameters\n",
        "    ----------\n",
        "    f : function\n",
        "        Vectorized function of a single variable\n",
        "    a , b : numbers\n",
        "        Interval of integration [a,b]\n",
        "    N : integer\n",
        "        Number of subintervals of [a,b]\n",
        "\n",
        "    Returns\n",
        "    -------\n",
        "    float\n",
        "        Approximation of the integral of f(x) from a to b using the\n",
        "        trapezoid rule with N subintervals of equal length.\n",
        "\n",
        "    Examples\n",
        "    --------\n",
        "    >>> trapz(np.sin,0,np.pi/2,1000)\n",
        "    0.9999997943832332\n",
        "    '''\n",
        "    x = np.linspace(a,b,N+1) # N+1 points make N subintervals\n",
        "    y = f(x)\n",
        "    y_right = y[1:] # right endpoints\n",
        "    y_left = y[:-1] # left endpoints\n",
        "    dx = (b - a)/N\n",
        "    T = (dx/2) * np.sum(y_right + y_left)\n",
        "    return T"
      ]
    },
    {
      "cell_type": "markdown",
      "metadata": {
        "id": "AuXzQSsBAt_V"
      },
      "source": [
        "Testiamo la nostra funzione su un integrale di cui conosciamo la risposta, ad esempio:\n",
        "\n",
        "$$\n",
        "\\int_0^{\\pi/2} \\sin x \\ dx = 1\n",
        "$$"
      ]
    },
    {
      "cell_type": "code",
      "execution_count": null,
      "metadata": {
        "id": "A-mTNuReAt_V",
        "outputId": "016f80d0-1ab7-4d41-91dd-39a2f5de93e1"
      },
      "outputs": [
        {
          "data": {
            "text/plain": [
              "0.9999997943832332"
            ]
          },
          "execution_count": 5,
          "metadata": {},
          "output_type": "execute_result"
        }
      ],
      "source": [
        "trapz(np.sin,0,np.pi/2,1000)"
      ]
    },
    {
      "cell_type": "markdown",
      "metadata": {
        "id": "CdESsUfQAt_V"
      },
      "source": [
        "Testiamo nuovamente la nostra funzione su:\n",
        "\n",
        "$$\n",
        "\\int_0^1 3 x^2 \\ dx = 1\n",
        "$$"
      ]
    },
    {
      "cell_type": "code",
      "execution_count": null,
      "metadata": {
        "id": "UueZ4ZObAt_V",
        "outputId": "9cae58c8-3bf4-49d6-d170-ee22181b12a5"
      },
      "outputs": [
        {
          "data": {
            "text/plain": [
              "1.0000000050000002"
            ]
          },
          "execution_count": 6,
          "metadata": {},
          "output_type": "execute_result"
        }
      ],
      "source": [
        "trapz(lambda x : 3*x**2,0,1,10000)"
      ]
    },
    {
      "cell_type": "markdown",
      "metadata": {
        "id": "Qo6zXI_RAt_V"
      },
      "source": [
        "e ancora una volta su:\n",
        "\n",
        "$$\n",
        "\\int_0^1 x \\ dx = \\frac{1}{2}\n",
        "$$"
      ]
    },
    {
      "cell_type": "code",
      "execution_count": null,
      "metadata": {
        "id": "LBXRjU_5At_V",
        "outputId": "e2e1defe-ec1a-490c-f978-2fac30da24ad"
      },
      "outputs": [
        {
          "data": {
            "text/plain": [
              "0.5"
            ]
          },
          "execution_count": 7,
          "metadata": {},
          "output_type": "execute_result"
        }
      ],
      "source": [
        "trapz(lambda x : x,0,1,1)"
      ]
    }
  ],
  "metadata": {
    "kernelspec": {
      "display_name": "Python 3",
      "language": "python",
      "name": "python3"
    },
    "language_info": {
      "codemirror_mode": {
        "name": "ipython",
        "version": 3
      },
      "file_extension": ".py",
      "mimetype": "text/x-python",
      "name": "python",
      "nbconvert_exporter": "python",
      "pygments_lexer": "ipython3",
      "version": "3.8.8"
    },
    "colab": {
      "provenance": [],
      "include_colab_link": true
    }
  },
  "nbformat": 4,
  "nbformat_minor": 0
}