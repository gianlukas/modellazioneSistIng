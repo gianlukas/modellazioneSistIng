{
  "nbformat": 4,
  "nbformat_minor": 0,
  "metadata": {
    "colab": {
      "provenance": [],
      "authorship_tag": "ABX9TyNflt+VSPvwMNLRbZVfFk8L",
      "include_colab_link": true
    },
    "kernelspec": {
      "name": "python3",
      "display_name": "Python 3"
    },
    "language_info": {
      "name": "python"
    }
  },
  "cells": [
    {
      "cell_type": "markdown",
      "metadata": {
        "id": "view-in-github",
        "colab_type": "text"
      },
      "source": [
        "<a href=\"https://colab.research.google.com/github/gianlukas/modellazioneSistIng/blob/main/3_1_Limiti_NOsoluzione.ipynb\" target=\"_parent\"><img src=\"https://colab.research.google.com/assets/colab-badge.svg\" alt=\"Open In Colab\"/></a>"
      ]
    },
    {
      "cell_type": "markdown",
      "metadata": {
        "id": "HUHCdM5KzhTm"
      },
      "source": [
        "# Corso di Modellazione dei Sistemi Ingegneristici\n",
        "\n",
        "prof. Gianluca Solazzo\n",
        "\n",
        "email: gianluca.solazzo@unisalento.it"
      ]
    },
    {
      "cell_type": "markdown",
      "source": [
        "<a target=\"_blank\" href=\"https://colab.research.google.com/github/mikexcohen/MasterMathByCodingInPython/blob/main/algebra_1/mathWithPython_algebra1_addPolys.ipynb\">\n",
        "  <img src=\"https://colab.research.google.com/assets/colab-badge.svg\" alt=\"Open In Colab\"/>\n",
        "</a>"
      ],
      "metadata": {
        "id": "JZhUk_36xwBy"
      }
    },
    {
      "cell_type": "markdown",
      "source": [
        "# Limiti di una funzione di variabile reale"
      ],
      "metadata": {
        "id": "Hq_yiyi8vE1C"
      }
    },
    {
      "cell_type": "markdown",
      "source": [
        "## Limiti con sympy\n",
        "\n",
        "Con il metodo sympy.limit(), possiamo trovare il limite di qualsiasi espressione matematica.\n",
        "\n",
        "Consulta la pagina di documentazione: https://docs.sympy.org/latest/tutorials/intro-tutorial/calculus.html#limits\n",
        "\n",
        "Sintassi: limit(espressione, variabile, valore)\n",
        "\n",
        "Parametri:\n",
        "* espressione: L'espressione matematica su cui deve essere eseguita l'operazione di limite, i. e., f(x).\n",
        "* variabile: È la variabile nell'espressione matematica, i. e., x\n",
        "* valore: È il valore a cui tende il limite, i. e., a.\n",
        "\n",
        "Restituisce il limite dell'espressione matematica in determinate condizioni.\n",
        "\n"
      ],
      "metadata": {
        "id": "eXAc5RXEp-o_"
      }
    },
    {
      "cell_type": "markdown",
      "source": [
        "### Esempio 1"
      ],
      "metadata": {
        "id": "cxmyAY9Kq_Te"
      }
    },
    {
      "cell_type": "code",
      "source": [
        "from sympy import *\n",
        "\n",
        "x = symbols('x')\n",
        "expr = sin(x)/x;\n",
        "\n",
        "print(\"Expression : {}\".format(expr))\n",
        "\n",
        "# Use sympy.limit() method\n",
        "limit_expr = limit(expr, x, 0)\n",
        "\n",
        "print(\"Limit of the expression tends to 0 : {}\".format(limit_expr))"
      ],
      "metadata": {
        "colab": {
          "base_uri": "https://localhost:8080/"
        },
        "id": "BaBdZ37sq-FN",
        "outputId": "08f9cc56-99dc-4376-c42b-640914773173"
      },
      "execution_count": null,
      "outputs": [
        {
          "output_type": "stream",
          "name": "stdout",
          "text": [
            "Expression : sin(x)/x\n",
            "Limit of the expression tends to 0 : 1\n"
          ]
        }
      ]
    },
    {
      "cell_type": "markdown",
      "source": [
        "### Esempio 2"
      ],
      "metadata": {
        "id": "5QDORRLbrBxh"
      }
    },
    {
      "cell_type": "code",
      "source": [
        "# import sympy\n",
        "from sympy import *\n",
        "\n",
        "x = symbols('x')\n",
        "expr = sin(3 * x)/x;\n",
        "\n",
        "print(\"Expression : {}\".format(expr))\n",
        "\n",
        "# Use sympy.limit() method\n",
        "limit_expr = limit(expr, x, 0)\n",
        "\n",
        "print(\"Limit of the expression tends to 0 : {}\".format(limit_expr))\n"
      ],
      "metadata": {
        "id": "SPGZQE8LrDH8"
      },
      "execution_count": null,
      "outputs": []
    },
    {
      "cell_type": "markdown",
      "source": [
        "## Esercizio 1\n",
        "Per le seguenti funzioni:\n",
        "\n",
        "* $f(x)= x^2 + \\frac{1}{x}$\n",
        "* $g(x)= \\frac{1}{ln(x)}$\n",
        "* $h(x)= ln(\\frac{x}{x-1})$\n",
        "\n",
        "determinare il dominio e i limiti agli estremi del dominio. Sulla base dei calcoli fatti, tracciare (a mano) un probabile graﬁco.\n",
        "\n",
        "Creare uno script python utilizzando numpy e matplotlib per la verifica dei risultati ottenuti su carta."
      ],
      "metadata": {
        "id": "kNYX-oukvHM6"
      }
    }
  ]
}