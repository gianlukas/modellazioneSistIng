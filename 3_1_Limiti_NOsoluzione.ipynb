{
  "nbformat": 4,
  "nbformat_minor": 0,
  "metadata": {
    "colab": {
      "provenance": [],
      "authorship_tag": "ABX9TyOb9YZw6ikbtFQX3P86KLuV",
      "include_colab_link": true
    },
    "kernelspec": {
      "name": "python3",
      "display_name": "Python 3"
    },
    "language_info": {
      "name": "python"
    }
  },
  "cells": [
    {
      "cell_type": "markdown",
      "metadata": {
        "id": "view-in-github",
        "colab_type": "text"
      },
      "source": [
        "<a href=\"https://colab.research.google.com/github/gianlukas/modellazioneSistIng/blob/main/3_1_Limiti_NOsoluzione.ipynb\" target=\"_parent\"><img src=\"https://colab.research.google.com/assets/colab-badge.svg\" alt=\"Open In Colab\"/></a>"
      ]
    },
    {
      "cell_type": "markdown",
      "metadata": {
        "id": "HUHCdM5KzhTm"
      },
      "source": [
        "# Corso di Modellazione dei Sistemi Ingegneristici\n",
        "\n",
        "prof. Gianluca Solazzo\n",
        "\n",
        "email: gianluca.solazzo@unisalento.it"
      ]
    },
    {
      "cell_type": "markdown",
      "source": [
        "<a target=\"_blank\" href=\"https://colab.research.google.com/github/mikexcohen/MasterMathByCodingInPython/blob/main/algebra_1/mathWithPython_algebra1_addPolys.ipynb\">\n",
        "  <img src=\"https://colab.research.google.com/assets/colab-badge.svg\" alt=\"Open In Colab\"/>\n",
        "</a>"
      ],
      "metadata": {
        "id": "JZhUk_36xwBy"
      }
    },
    {
      "cell_type": "markdown",
      "source": [
        "# Limiti di una funzione di variabile reale"
      ],
      "metadata": {
        "id": "Hq_yiyi8vE1C"
      }
    },
    {
      "cell_type": "markdown",
      "source": [
        "## Limiti con sympy\n",
        "\n",
        "Con il metodo sympy.limit(), possiamo trovare il limite di qualsiasi espressione matematica.\n",
        "\n",
        "Consulta la pagina di documentazione: https://docs.sympy.org/latest/tutorials/intro-tutorial/calculus.html#limits\n",
        "\n",
        "Sintassi: limit(espressione, variabile, valore)\n",
        "\n",
        "Parametri:\n",
        "* espressione: L'espressione matematica su cui deve essere eseguita l'operazione di limite, i. e., f(x).\n",
        "* variabile: È la variabile nell'espressione matematica, i. e., x\n",
        "* valore: È il valore a cui tende il limite, i. e., a.\n",
        "\n",
        "Restituisce il limite dell'espressione matematica in determinate condizioni.\n",
        "\n"
      ],
      "metadata": {
        "id": "eXAc5RXEp-o_"
      }
    },
    {
      "cell_type": "markdown",
      "source": [
        "### Esempio 1"
      ],
      "metadata": {
        "id": "cxmyAY9Kq_Te"
      }
    },
    {
      "cell_type": "code",
      "source": [
        "from sympy import *\n",
        "\n",
        "x = symbols('x')\n",
        "expr = sin(x)/x;\n",
        "\n",
        "print(\"Expression : {}\".format(expr))\n",
        "\n",
        "# Use sympy.limit() method\n",
        "limit_expr = limit(expr, x, 0)\n",
        "\n",
        "print(\"Limit of the expression tends to 0 : {}\".format(limit_expr))"
      ],
      "metadata": {
        "colab": {
          "base_uri": "https://localhost:8080/"
        },
        "id": "BaBdZ37sq-FN",
        "outputId": "08f9cc56-99dc-4376-c42b-640914773173"
      },
      "execution_count": null,
      "outputs": [
        {
          "output_type": "stream",
          "name": "stdout",
          "text": [
            "Expression : sin(x)/x\n",
            "Limit of the expression tends to 0 : 1\n"
          ]
        }
      ]
    },
    {
      "cell_type": "markdown",
      "source": [
        "### Esempio 2"
      ],
      "metadata": {
        "id": "5QDORRLbrBxh"
      }
    },
    {
      "cell_type": "code",
      "source": [
        "# import sympy\n",
        "from sympy import *\n",
        "\n",
        "x = symbols('x')\n",
        "expr = sin(3 * x)/x;\n",
        "\n",
        "print(\"Expression : {}\".format(expr))\n",
        "\n",
        "# Use sympy.limit() method\n",
        "limit_expr = limit(expr, x, 0)\n",
        "\n",
        "print(\"Limit of the expression tends to 0 : {}\".format(limit_expr))\n"
      ],
      "metadata": {
        "id": "SPGZQE8LrDH8"
      },
      "execution_count": null,
      "outputs": []
    },
    {
      "cell_type": "markdown",
      "source": [
        "## Esercizio 1\n",
        "Per le seguenti funzioni:\n",
        "\n",
        "* $f(x)= x^2 + \\frac{1}{x}$\n",
        "* $g(x)= \\frac{1}{ln(x)}$\n",
        "* $h(x)= ln(\\frac{x}{x-1})$\n",
        "\n",
        "determinare il dominio e i limiti agli estremi del dominio. Sulla base dei calcoli fatti, tracciare (a mano) un probabile graﬁco.\n",
        "\n",
        "Creare uno script python utilizzando numpy e matplotlib per la verifica dei risultati ottenuti su carta."
      ],
      "metadata": {
        "id": "kNYX-oukvHM6"
      }
    },
    {
      "cell_type": "markdown",
      "source": [
        "### Soluzione\n",
        "\n",
        "1. $f(x) = x^2 + \\frac{1}{x}$:\n",
        "\n",
        "Il dominio di $ f(x) $ è l'insieme di tutti i valori di $ x $ per cui la funzione è definita. In questo caso, la funzione è definita per tutti i valori di $ x $ diversi da zero poiché non possiamo dividere per zero. Quindi, il dominio di $ f(x) $ è $ (-\\infty, 0) \\cup (0, \\infty) $.\n",
        "\n",
        "I limiti agli estremi del dominio sono:\n",
        "\n",
        "- $ \\lim_{x \\to 0^-} f(x) = -\\infty $\n",
        "- $ \\lim_{x \\to 0^+} f(x) = +\\infty $\n",
        "- $ \\lim_{x \\to \\pm \\infty} f(x) = +\\infty $\n",
        "\n",
        "2. $ g(x) = \\frac{1}{\\ln(x)} $:\n",
        "\n",
        "Il dominio di $ g(x) $ è l'insieme di tutti i valori di $ x $ per cui la funzione è definita. Poiché il logaritmo naturale $ \\ln(x) $ è definito solo per $ x > 0 $, il dominio di $ g(x) $ è $ (0, \\infty)$.\n",
        "\n",
        "I limiti agli estremi del dominio sono:\n",
        "\n",
        "- $ \\lim_{x \\to 0^+} g(x) = +\\infty $\n",
        "- $ \\lim_{x \\to \\infty} g(x) = 0 $\n",
        "\n",
        "3. $ h(x) = \\ln\\left(\\frac{x}{x-1}\\right) $:\n",
        "\n",
        "Il dominio di \\( h(x) \\) è l'insieme di tutti i valori di $ x $ per cui la funzione è definita. Poiché il logaritmo naturale $ \\ln(x) $ è definito solo per $ x > 0 $, e l'argomento del logaritmo deve essere diverso da zero, il dominio di $ h(x) $ è $ (1, \\infty) $.\n",
        "\n",
        "I limiti agli estremi del dominio sono:\n",
        "\n",
        "- $ \\lim_{x \\to 1^+} h(x) = -\\infty $\n",
        "- $ \\lim_{x \\to \\infty} h(x) = +\\infty$"
      ],
      "metadata": {
        "id": "fWxS-7kbDWTa"
      }
    },
    {
      "cell_type": "code",
      "source": [
        "import numpy as np\n",
        "import matplotlib.pyplot as plt\n",
        "import sympy as sym\n",
        "\n",
        "# Definizione delle variabili simboliche\n",
        "x = sym.Symbol('x')\n",
        "\n",
        "# Definizione delle funzioni\n",
        "f = x**2 + 1/x\n",
        "g = 1/sym.ln(x)\n",
        "h = sym.ln(x/(x-1))\n",
        "\n",
        "# Calcolo dei limiti\n",
        "limit_f_0_neg = sym.limit(f, x, 0, dir='-')\n",
        "limit_f_0_pos = sym.limit(f, x, 0, dir='+')\n",
        "limit_f_inf = sym.limit(f, x, sym.oo)\n",
        "\n",
        "limit_g_0_pos = sym.limit(g, x, 0, dir='+')\n",
        "limit_g_inf = sym.limit(g, x, sym.oo)\n",
        "\n",
        "limit_h_1_pos = sym.limit(h, x, 1, dir='+')\n",
        "limit_h_inf = sym.limit(h, x, sym.oo)\n",
        "\n",
        "print(\"Limiti di f:\")\n",
        "print(\"Limite per x che tende a 0 da sinistra:\", limit_f_0_neg)\n",
        "print(\"Limite per x che tende a 0 da destra:\", limit_f_0_pos)\n",
        "print(\"Limite per x che tende a infinito:\", limit_f_inf)\n",
        "print()\n",
        "\n",
        "print(\"Limiti di g:\")\n",
        "print(\"Limite per x che tende a 0 da destra:\", limit_g_0_pos)\n",
        "print(\"Limite per x che tende a infinito:\", limit_g_inf)\n",
        "print()\n",
        "\n",
        "print(\"Limiti di h:\")\n",
        "print(\"Limite per x che tende a 1 da destra:\", limit_h_1_pos)\n",
        "print(\"Limite per x che tende a infinito:\", limit_h_inf)\n",
        "print()\n",
        "\n",
        "# Tracciamento dei grafici\n",
        "x_vals_f = np.linspace(-5, 5, 400)\n",
        "x_vals_g = np.linspace(0.1, 5, 400)\n",
        "x_vals_h = np.linspace(1.1, 5, 400)\n",
        "\n",
        "f_vals = x_vals_f**2 + 1/x_vals_f\n",
        "g_vals = 1/np.log(x_vals_g)\n",
        "h_vals = np.log(x_vals_h/(x_vals_h-1))\n",
        "\n",
        "plt.figure(figsize=(10, 6))\n",
        "\n",
        "plt.subplot(311)\n",
        "plt.plot(x_vals_f, f_vals, label='$f(x)=x^2+\\\\frac{1}{x}$')\n",
        "plt.title('Grafico di f(x)')\n",
        "plt.xlabel('x')\n",
        "plt.ylabel('f(x)')\n",
        "plt.legend()\n",
        "\n",
        "plt.subplot(312)\n",
        "plt.plot(x_vals_g, g_vals, label='$g(x)=\\\\frac{1}{\\ln(x)}$')\n",
        "plt.title('Grafico di g(x)')\n",
        "plt.xlabel('x')\n",
        "plt.ylabel('g(x)')\n",
        "plt.legend()\n",
        "\n",
        "plt.subplot(313)\n",
        "plt.plot(x_vals_h, h_vals, label='$h(x)=\\ln\\\\left(\\\\frac{x}{x-1}\\\\right)$')\n",
        "plt.title('Grafico di h(x)')\n",
        "plt.xlabel('x')\n",
        "plt.ylabel('h(x)')\n",
        "plt.legend()\n",
        "\n",
        "plt.tight_layout()\n",
        "plt.show()"
      ],
      "metadata": {
        "colab": {
          "base_uri": "https://localhost:8080/",
          "height": 844
        },
        "id": "tG1qZUXhq6Nb",
        "outputId": "e63f4856-dcad-489c-ef9d-7712531720f5"
      },
      "execution_count": null,
      "outputs": [
        {
          "output_type": "stream",
          "name": "stdout",
          "text": [
            "Limiti di f:\n",
            "Limite per x che tende a 0 da sinistra: -oo\n",
            "Limite per x che tende a 0 da destra: oo\n",
            "Limite per x che tende a infinito: oo\n",
            "\n",
            "Limiti di g:\n",
            "Limite per x che tende a 0 da destra: 0\n",
            "Limite per x che tende a infinito: 0\n",
            "\n",
            "Limiti di h:\n",
            "Limite per x che tende a 1 da destra: oo\n",
            "Limite per x che tende a infinito: 0\n",
            "\n"
          ]
        },
        {
          "output_type": "display_data",
          "data": {
            "text/plain": [
              "<Figure size 1000x600 with 3 Axes>"
            ],
            "image/png": "[encoded data removed]"
          },
          "metadata": {}
        }
      ]
    }
  ]
}