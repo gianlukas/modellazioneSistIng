{
  "nbformat": 4,
  "nbformat_minor": 0,
  "metadata": {
    "colab": {
      "provenance": [],
      "authorship_tag": "ABX9TyOnAJe+/102Ov68RKCj17Bk",
      "include_colab_link": true
    },
    "kernelspec": {
      "name": "python3",
      "display_name": "Python 3"
    },
    "language_info": {
      "name": "python"
    }
  },
  "cells": [
    {
      "cell_type": "markdown",
      "metadata": {
        "id": "view-in-github",
        "colab_type": "text"
      },
      "source": [
        "<a href=\"https://colab.research.google.com/github/gianlukas/modellazioneSistIng/blob/main/3_1_Limiti_NOsoluzione.ipynb\" target=\"_parent\"><img src=\"https://colab.research.google.com/assets/colab-badge.svg\" alt=\"Open In Colab\"/></a>"
      ]
    },
    {
      "cell_type": "markdown",
      "metadata": {
        "id": "HUHCdM5KzhTm"
      },
      "source": [
        "# Corso di Modellazione dei Sistemi Ingegneristici\n",
        "\n",
        "prof. Gianluca Solazzo\n",
        "\n",
        "email: gianluca.solazzo@unisalento.it"
      ]
    },
    {
      "cell_type": "markdown",
      "source": [
        "<a target=\"_blank\" href=\"https://colab.research.google.com/github/mikexcohen/MasterMathByCodingInPython/blob/main/algebra_1/mathWithPython_algebra1_addPolys.ipynb\">\n",
        "  <img src=\"https://colab.research.google.com/assets/colab-badge.svg\" alt=\"Open In Colab\"/>\n",
        "</a>"
      ],
      "metadata": {
        "id": "JZhUk_36xwBy"
      }
    },
    {
      "cell_type": "markdown",
      "source": [
        "# Limiti di una funzione di variabile reale"
      ],
      "metadata": {
        "id": "Hq_yiyi8vE1C"
      }
    },
    {
      "cell_type": "markdown",
      "source": [
        "## Limiti con sympy\n",
        "\n",
        "Con il metodo sympy.limit(), possiamo trovare il limite di qualsiasi espressione matematica.\n",
        "\n",
        "Consulta la pagina di documentazione: https://docs.sympy.org/latest/tutorials/intro-tutorial/calculus.html#limits\n",
        "\n",
        "Sintassi: limit(espressione, variabile, valore)\n",
        "\n",
        "Parametri:\n",
        "* espressione: L'espressione matematica su cui deve essere eseguita l'operazione di limite, i. e., f(x).\n",
        "* variabile: È la variabile nell'espressione matematica, i. e., x\n",
        "* valore: È il valore a cui tende il limite, i. e., a.\n",
        "\n",
        "Restituisce il limite dell'espressione matematica in determinate condizioni.\n",
        "\n"
      ],
      "metadata": {
        "id": "eXAc5RXEp-o_"
      }
    },
    {
      "cell_type": "code",
      "source": [
        "from sympy import *"
      ],
      "metadata": {
        "id": "TwlMpmQ8Ca19"
      },
      "execution_count": null,
      "outputs": []
    },
    {
      "cell_type": "code",
      "source": [
        "# Create a symbol\n",
        "x= Symbol('x')\n",
        "\n",
        "# Create a function\n",
        "expr = x**2\n",
        "\n",
        "# Take the limit\n",
        "limit(expr, x, 2)"
      ],
      "metadata": {
        "colab": {
          "base_uri": "https://localhost:8080/",
          "height": 37
        },
        "id": "UnvYQSq0CRCs",
        "outputId": "69792f3c-ab4b-4f90-d777-de4cb166f86f"
      },
      "execution_count": 2,
      "outputs": [
        {
          "output_type": "execute_result",
          "data": {
            "text/plain": [
              "4"
            ],
            "text/latex": "$\\displaystyle 4$"
          },
          "metadata": {},
          "execution_count": 2
        }
      ]
    },
    {
      "cell_type": "code",
      "source": [
        "# Avremmo potuto anche sostituire\n",
        "expr.subs(x, 2)"
      ],
      "metadata": {
        "colab": {
          "base_uri": "https://localhost:8080/",
          "height": 37
        },
        "id": "P-o9Wwe7DAC5",
        "outputId": "5a6ebc05-9412-40cc-9f42-5c3edb154e31"
      },
      "execution_count": 3,
      "outputs": [
        {
          "output_type": "execute_result",
          "data": {
            "text/plain": [
              "4"
            ],
            "text/latex": "$\\displaystyle 4$"
          },
          "metadata": {},
          "execution_count": 3
        }
      ]
    },
    {
      "cell_type": "markdown",
      "source": [
        "#Limite ad infinito"
      ],
      "metadata": {
        "id": "-yFHk-YmDPcK"
      }
    },
    {
      "cell_type": "code",
      "source": [
        "# Create a function\n",
        "exponential = x/exp(x)\n",
        "exponential"
      ],
      "metadata": {
        "colab": {
          "base_uri": "https://localhost:8080/",
          "height": 38
        },
        "id": "G4UD8GUyDUML",
        "outputId": "13a14f04-ef3b-4440-9000-fe7fcf88ad8c"
      },
      "execution_count": 4,
      "outputs": [
        {
          "output_type": "execute_result",
          "data": {
            "text/plain": [
              "x*exp(-x)"
            ],
            "text/latex": "$\\displaystyle x e^{- x}$"
          },
          "metadata": {},
          "execution_count": 4
        }
      ]
    },
    {
      "cell_type": "code",
      "source": [
        "# Take the limit\n",
        "limit(exponential, x, oo)"
      ],
      "metadata": {
        "colab": {
          "base_uri": "https://localhost:8080/",
          "height": 37
        },
        "id": "1reUdcOFDiNF",
        "outputId": "3a9b5681-2738-449d-9877-ab8a70d42d10"
      },
      "execution_count": 5,
      "outputs": [
        {
          "output_type": "execute_result",
          "data": {
            "text/plain": [
              "0"
            ],
            "text/latex": "$\\displaystyle 0$"
          },
          "metadata": {},
          "execution_count": 5
        }
      ]
    },
    {
      "cell_type": "code",
      "source": [
        "# Avremmo potuto anche sostituire\n",
        "exponential.subs(x, oo)"
      ],
      "metadata": {
        "colab": {
          "base_uri": "https://localhost:8080/",
          "height": 37
        },
        "id": "b6jgHBKtDuu_",
        "outputId": "dbfd20e2-364f-43b0-f29b-43a98d348e20"
      },
      "execution_count": 6,
      "outputs": [
        {
          "output_type": "execute_result",
          "data": {
            "text/plain": [
              "nan"
            ],
            "text/latex": "$\\displaystyle \\text{NaN}$"
          },
          "metadata": {},
          "execution_count": 6
        }
      ]
    },
    {
      "cell_type": "markdown",
      "source": [
        "# Una particolarità di Sympy\n",
        "Il limite è calcolato sempre da destra"
      ],
      "metadata": {
        "id": "JZhTcHmlEUyr"
      }
    },
    {
      "cell_type": "code",
      "source": [
        "expr = 1/x\n",
        "expr"
      ],
      "metadata": {
        "colab": {
          "base_uri": "https://localhost:8080/",
          "height": 51
        },
        "id": "auaxlIDFEhAl",
        "outputId": "80e35cbb-a86f-4c31-8214-6106615f8b89"
      },
      "execution_count": 7,
      "outputs": [
        {
          "output_type": "execute_result",
          "data": {
            "text/plain": [
              "1/x"
            ],
            "text/latex": "$\\displaystyle \\frac{1}{x}$"
          },
          "metadata": {},
          "execution_count": 7
        }
      ]
    },
    {
      "cell_type": "code",
      "source": [
        "# Calcolo il limite normalmente\n",
        "limit(expr, x, 0)"
      ],
      "metadata": {
        "colab": {
          "base_uri": "https://localhost:8080/",
          "height": 37
        },
        "id": "v-jAb7ZTFVVs",
        "outputId": "15e624ba-cef3-474a-fdc1-770f47ed8664"
      },
      "execution_count": 8,
      "outputs": [
        {
          "output_type": "execute_result",
          "data": {
            "text/plain": [
              "oo"
            ],
            "text/latex": "$\\displaystyle \\infty$"
          },
          "metadata": {},
          "execution_count": 8
        }
      ]
    },
    {
      "cell_type": "code",
      "source": [
        "# Calcolo il limite destro e sinistro\n",
        "\n",
        "limit_sx = limit (expr, x, 0, '-')\n",
        "limit_sx"
      ],
      "metadata": {
        "colab": {
          "base_uri": "https://localhost:8080/",
          "height": 37
        },
        "id": "XI0_hV4yFg9V",
        "outputId": "8240d447-6980-4264-b96e-e8ecc633a69c"
      },
      "execution_count": 19,
      "outputs": [
        {
          "output_type": "execute_result",
          "data": {
            "text/plain": [
              "-oo"
            ],
            "text/latex": "$\\displaystyle -\\infty$"
          },
          "metadata": {},
          "execution_count": 19
        }
      ]
    },
    {
      "cell_type": "code",
      "source": [
        "limit_dx = limit (expr, x, 0, '+')\n",
        "limit_dx"
      ],
      "metadata": {
        "colab": {
          "base_uri": "https://localhost:8080/",
          "height": 37
        },
        "id": "i_nozTD0GVTE",
        "outputId": "d41dfea2-83fd-4b25-bc25-6d570b9a79c4"
      },
      "execution_count": 18,
      "outputs": [
        {
          "output_type": "execute_result",
          "data": {
            "text/plain": [
              "oo"
            ],
            "text/latex": "$\\displaystyle \\infty$"
          },
          "metadata": {},
          "execution_count": 18
        }
      ]
    },
    {
      "cell_type": "code",
      "source": [
        "limit = limit (expr, x, 0, '+-')\n",
        "limit"
      ],
      "metadata": {
        "colab": {
          "base_uri": "https://localhost:8080/",
          "height": 37
        },
        "id": "DdO3ZTg4GaB8",
        "outputId": "79ab558a-fdaa-4a4b-b29a-62f709d24a41"
      },
      "execution_count": 21,
      "outputs": [
        {
          "output_type": "execute_result",
          "data": {
            "text/plain": [
              "zoo"
            ],
            "text/latex": "$\\displaystyle \\tilde{\\infty}$"
          },
          "metadata": {},
          "execution_count": 21
        }
      ]
    },
    {
      "cell_type": "markdown",
      "source": [
        "### Esempio 1"
      ],
      "metadata": {
        "id": "cxmyAY9Kq_Te"
      }
    },
    {
      "cell_type": "code",
      "source": [
        "x = symbols('x')\n",
        "expr = sin(x)/x;\n",
        "\n",
        "print(\"Expression : {}\".format(expr))\n",
        "\n",
        "# Use sympy.limit() method\n",
        "limit_expr = limit(expr, x, 0)\n",
        "\n",
        "print(\"Limit of the expression tends to 0 : {}\".format(limit_expr))"
      ],
      "metadata": {
        "colab": {
          "base_uri": "https://localhost:8080/"
        },
        "id": "BaBdZ37sq-FN",
        "outputId": "aa0c7000-94d3-4c26-cc54-0216bef5f750"
      },
      "execution_count": 1,
      "outputs": [
        {
          "output_type": "stream",
          "name": "stdout",
          "text": [
            "Expression : sin(x)/x\n",
            "Limit of the expression tends to 0 : 1\n"
          ]
        }
      ]
    },
    {
      "cell_type": "markdown",
      "source": [
        "### Esempio 2"
      ],
      "metadata": {
        "id": "5QDORRLbrBxh"
      }
    },
    {
      "cell_type": "code",
      "source": [
        "# import sympy\n",
        "from sympy import *\n",
        "\n",
        "x = symbols('x')\n",
        "expr = sin(3 * x)/x;\n",
        "\n",
        "print(\"Expression : {}\".format(expr))\n",
        "\n",
        "# Use sympy.limit() method\n",
        "limit_expr = limit(expr, x, 0)\n",
        "\n",
        "print(\"Limit of the expression tends to 0 : {}\".format(limit_expr))\n"
      ],
      "metadata": {
        "id": "SPGZQE8LrDH8"
      },
      "execution_count": null,
      "outputs": []
    },
    {
      "cell_type": "markdown",
      "source": [
        "## Esercizio 1\n",
        "Per le seguenti funzioni:\n",
        "\n",
        "* $f(x)= x^2 + \\frac{1}{x}$\n",
        "* $g(x)= \\frac{1}{ln(x)}$\n",
        "* $h(x)= ln(\\frac{x}{x-1})$\n",
        "\n",
        "determinare il dominio e i limiti agli estremi del dominio. Sulla base dei calcoli fatti, tracciare (a mano) un probabile graﬁco.\n",
        "\n",
        "Creare uno script python utilizzando numpy e matplotlib per la verifica dei risultati ottenuti su carta."
      ],
      "metadata": {
        "id": "kNYX-oukvHM6"
      }
    },
    {
      "cell_type": "markdown",
      "source": [
        "# Esercizio 2\n",
        "\n",
        "Lo spostamento $x(t)$ di una massa con smorzamento viscoso è dato dal modello:\n",
        "\n",
        "$x(t)= \\frac{3sin(2t)}{t}$\n",
        "\n",
        "Determina il limite di $x(t)$ per $t -> infinity$"
      ],
      "metadata": {
        "id": "LjCbRPnoZF5c"
      }
    },
    {
      "cell_type": "markdown",
      "source": [
        "# Esercizio 3\n",
        "\n",
        "La tensione in un circuito RLC smorzato è:\n",
        "\n",
        "$V(t)= e^{-0.5t}(\\frac{sin^2(t))}{t^2})$\n",
        "\n",
        "Determina il limite di $V(t)$ per $t ->0$"
      ],
      "metadata": {
        "id": "SgfvMxBlZ2ur"
      }
    },
    {
      "cell_type": "markdown",
      "source": [
        "# Esercizio 4\n",
        "\n",
        "La temperatura $T(t)$ di un corpo che si raffredda in aria è:\n",
        "\n",
        "$T(t)= T_a  + \\frac{T_0 - T_a}{e^{\\frac{t}{1+t^2}}}$\n",
        "\n",
        "Determina il limite di $T(t)$ per $t ->infinity$ quando $T_a = 20°C$ e $T_0=100°C$"
      ],
      "metadata": {
        "id": "tPDRYKUBa3mb"
      }
    },
    {
      "cell_type": "markdown",
      "source": [
        "# Esercizio 5\n",
        "\n",
        "Lo spostamento di un oscillatore con attrito complesso è dato dalla funzione:\n",
        "\n",
        "$y(t)= \\frac{t^2sin(\\frac{1}{t})}{ln(1+t)}$\n",
        "\n",
        "Determina il limite di $y(t)$ per $t ->0$"
      ],
      "metadata": {
        "id": "emx91-7DdO0F"
      }
    },
    {
      "cell_type": "markdown",
      "source": [
        "# Esercizio 6\n",
        "\n",
        "Lo spostamento $z(t)$ di un sistema modellato dalla funzione:\n",
        "\n",
        "$z(t)= \\frac{e^t -t -1}{{t^2}}$\n",
        "\n",
        "Determina il limite di $z(t)$ per $t ->0$"
      ],
      "metadata": {
        "id": "SurJaENweK-e"
      }
    }
  ]
}