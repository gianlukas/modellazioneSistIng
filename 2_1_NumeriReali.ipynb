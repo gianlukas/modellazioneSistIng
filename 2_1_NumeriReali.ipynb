{
  "cells": [
    {
      "cell_type": "markdown",
      "metadata": {
        "id": "view-in-github",
        "colab_type": "text"
      },
      "source": [
        "<a href=\"https://colab.research.google.com/github/gianlukas/modellazioneSistIng/blob/main/2_1_NumeriReali.ipynb\" target=\"_parent\"><img src=\"https://colab.research.google.com/assets/colab-badge.svg\" alt=\"Open In Colab\"/></a>"
      ]
    },
    {
      "cell_type": "markdown",
      "metadata": {
        "id": "HUHCdM5KzhTm"
      },
      "source": [
        "# Corso di Modellazione dei Sistemi Ingegneristici\n",
        "\n",
        "prof. Gianluca Solazzo\n",
        "\n",
        "email: gianluca.solazzo@unisalento.it"
      ]
    },
    {
      "cell_type": "markdown",
      "source": [
        "<a target=\"_blank\" href=\"https://colab.research.google.com/github/mikexcohen/MasterMathByCodingInPython/blob/main/algebra_1/mathWithPython_algebra1_addPolys.ipynb\">\n",
        "  <img src=\"https://colab.research.google.com/assets/colab-badge.svg\" alt=\"Open In Colab\"/>\n",
        "</a>"
      ],
      "metadata": {
        "id": "JZhUk_36xwBy"
      }
    },
    {
      "cell_type": "markdown",
      "source": [
        "# I numeri reali"
      ],
      "metadata": {
        "id": "e4jf_XJG1x2b"
      }
    },
    {
      "cell_type": "code",
      "execution_count": null,
      "metadata": {
        "id": "AsnYF03SeQ71"
      },
      "outputs": [],
      "source": [
        "# importiamo le librerie\n",
        "import sympy as sym\n",
        "import numpy as np\n",
        "from IPython.display import display, Math"
      ]
    },
    {
      "cell_type": "markdown",
      "source": [
        "Il comando `from IPython.display import display, Math ` viene utilizzato per importare le funzioni display e Math dal modulo display della libreria IPython.\n",
        "Questo comando è utilizzato principalmente nell'ambiente IPython, come Jupyter Notebook, per visualizzare contenuti speciali come formule matematiche in formato LaTeX.\n",
        "* La funzione display viene utilizzata per visualizzare un oggetto specificato nel notebook. Questo può includere testo, immagini, grafici, formule matematiche e altro ancora.\n",
        "* La funzione Math viene utilizzata per formattare testo in formato LaTeX all'interno di un oggetto Math, consentendo la visualizzazione di espressioni matematiche ben formattate."
      ],
      "metadata": {
        "id": "aWIr-D_jwbIi"
      }
    },
    {
      "cell_type": "markdown",
      "source": [
        "## Somma di polinomi"
      ],
      "metadata": {
        "id": "fyB9DEMy04F8"
      }
    },
    {
      "cell_type": "code",
      "execution_count": null,
      "metadata": {
        "id": "UhinVt6reQ8I",
        "colab": {
          "base_uri": "https://localhost:8080/",
          "height": 56
        },
        "outputId": "4c503b73-2a4a-499f-c82a-6608665658df"
      },
      "outputs": [
        {
          "output_type": "stream",
          "name": "stdout",
          "text": [
            "-x**4 + 3*x**3 - 3*x**2 - x\n"
          ]
        },
        {
          "output_type": "display_data",
          "data": {
            "text/plain": [
              "<IPython.core.display.Math object>"
            ],
            "text/latex": "$\\displaystyle (2 x^{3} + x^{2} - x) + (- x^{4} + x^{3} - 4 x^{2}) \\quad=\\quad (- x^{4} + 3 x^{3} - 3 x^{2} - x)$"
          },
          "metadata": {}
        }
      ],
      "source": [
        "# sympy.abc è un modulo all'interno di SymPy che contiene variabili simboliche comuni, come x, y, z, ecc.\n",
        "# L'istruzione importa la variabile x da questo modulo, consentendo di utilizzare x come variabile simbolica nei calcoli con SymPy senza dover dichiarare esplicitamente la variabile\n",
        "from sympy.abc import x\n",
        "\n",
        "# somma diretta di polinomi\n",
        "p1 = 2*x**3 + x**2 - x\n",
        "p2 = x**3 - x**4 - 4*x**2\n",
        "print( p1+p2 )\n",
        "\n",
        "display(Math('(%s) + (%s) \\quad=\\quad (%s)' %(sym.latex(p1),sym.latex(p2),sym.latex(p1+p2) )))"
      ]
    },
    {
      "cell_type": "code",
      "execution_count": null,
      "metadata": {
        "id": "2XocdVBWeQ8I",
        "colab": {
          "base_uri": "https://localhost:8080/",
          "height": 38
        },
        "outputId": "5a5451ae-c505-4167-dc81-efa1adbd8c81"
      },
      "outputs": [
        {
          "output_type": "execute_result",
          "data": {
            "text/plain": [
              "Poly(2*x**6 + x**2 - x, x, domain='ZZ')"
            ],
            "text/latex": "$\\displaystyle \\operatorname{Poly}{\\left( 2 x^{6} + x^{2} - x, x, domain=\\mathbb{Z} \\right)}$"
          },
          "metadata": {},
          "execution_count": 7
        }
      ],
      "source": [
        "# Utilizziamo la funzione Poly. sym.Poly() è una funzione di SymPy che crea un oggetto polinomiale.\n",
        "# la documentazione è presente qui: https://docs.sympy.org/latest/modules/polys/reference.html#sympy.polys.polytools.Poly\n",
        "\n",
        "p1 = sym.Poly(2*x**6 + x**2 - x)\n",
        "p1\n"
      ]
    },
    {
      "cell_type": "code",
      "execution_count": null,
      "metadata": {
        "id": "oEtBQWUfeQ8I",
        "colab": {
          "base_uri": "https://localhost:8080/"
        },
        "outputId": "1c4e26db-e282-4dda-9984-5aa55e6bbce8"
      },
      "outputs": [
        {
          "output_type": "stream",
          "name": "stdout",
          "text": [
            "2000090\n",
            "6\n"
          ]
        }
      ],
      "source": [
        "# su un oggetto polinomiale sono definiti diversi metodi. Per esempio eval() e degree()\n",
        "print( p1.eval(x,10) )\n",
        "\n",
        "print( p1.degree() )"
      ]
    },
    {
      "cell_type": "code",
      "execution_count": null,
      "metadata": {
        "id": "tGn2O5W8eQ8I",
        "colab": {
          "base_uri": "https://localhost:8080/"
        },
        "outputId": "896a772e-9a74-474a-e8f4-4d5360bc24d9"
      },
      "outputs": [
        {
          "output_type": "stream",
          "name": "stdout",
          "text": [
            "Poly(2.0*x**6 + 1.0*x**4 - 1.0*x**3 + 1.4*x**2 - 1.0*x, x, domain='RR')\n",
            "Poly(2.0*x**6 + 1.0*x**4 - 1.0*x**3 + 1.4*x**2 - 1.0*x, x, domain='RR')\n"
          ]
        }
      ],
      "source": [
        "# creiamo un secondo polinomio\n",
        "p2 = sym.Poly(x**3 - x**4 - .4*x**2)\n",
        "print(p1-p2)\n",
        "\n",
        "# can also call the add method on the polynomial objects\n",
        "p1.add(p2)\n",
        "p1.sub(p2)\n",
        "print(p1.sub(p2))\n",
        "\n",
        "\n",
        "# \"domain='RR'\": Specifica il dominio del polinomio, che è l'insieme dei numeri reali ('RR').\n",
        "# \"domain='ZZ'\": Specifica il dominio del polinomio, che è l'insieme dei numeri interi con segno ('ZZ').\n",
        "# \"domain='QQ'\": Specifica il dominio del polinomio, che è l'insieme dei numeri razionali ('QQ')."
      ]
    },
    {
      "cell_type": "markdown",
      "metadata": {
        "id": "Jqlims2aeQ8I"
      },
      "source": [
        " ### Esercizio"
      ]
    },
    {
      "cell_type": "code",
      "execution_count": null,
      "metadata": {
        "id": "T1A1LNIJeQ8I",
        "colab": {
          "base_uri": "https://localhost:8080/"
        },
        "outputId": "c5b0a9d0-fe73-4736-9cd3-39233086f2f8"
      },
      "outputs": [
        {
          "output_type": "stream",
          "name": "stdout",
          "text": [
            "Il grado di x**2 + 2*x è pari, e la somma dei coefficienti è 3.\n",
            "Il grado di -x**3 + 4*x è dispari, e ci sono 2 coefficienti.\n",
            "Il grado di 1.0*x**5 - 1.0*x**4 + 0.25*x + 4.0 è dispari, e ci sono 4 coefficienti.\n"
          ]
        }
      ],
      "source": [
        "# creare una lista di polinomi\n",
        "# scorrere la lista, per ogni polinomio se l'ordine è pari, somma i coefficienti. se l'ordine è dispari, conta il numero di coefficienti\n",
        "\n",
        "polys = [ sym.Poly(2*x + x**2), sym.Poly(-x**3 + 4*x), sym.Poly(x**5-x**4+1/4*x+4) ]\n",
        "\n",
        "for poli in polys:\n",
        "  if poli.degree()%2==0:\n",
        "    print('Il grado di %s è pari, e la somma dei coefficienti è %s.' %(poli.as_expr(),sum(poli.coeffs())))\n",
        "  else:\n",
        "    print('Il grado di %s è dispari, e ci sono %s coefficienti.' %(poli.as_expr(),len(poli.coeffs())))"
      ]
    },
    {
      "cell_type": "markdown",
      "source": [
        "## Divisione tra polinomi"
      ],
      "metadata": {
        "id": "L0xQMrgo1fpg"
      }
    },
    {
      "cell_type": "code",
      "execution_count": null,
      "metadata": {
        "scrolled": true,
        "id": "j4HE0VSreQ8J",
        "colab": {
          "base_uri": "https://localhost:8080/",
          "height": 132
        },
        "outputId": "65206268-31ec-4a51-bb99-e502deb6df67"
      },
      "outputs": [
        {
          "output_type": "display_data",
          "data": {
            "text/plain": [
              "<IPython.core.display.Math object>"
            ],
            "text/latex": "$\\displaystyle \\frac{4 x^{5} - x}{2 x^{3} - x} = \\frac{4 x^{5} - x}{2 x^{3} - x}$"
          },
          "metadata": {}
        },
        {
          "output_type": "display_data",
          "data": {
            "text/plain": [
              "<IPython.core.display.Math object>"
            ],
            "text/latex": "$\\displaystyle \\frac{4 x^{5} - x}{2 x^{3} - x} = \\frac{4 x^{5}}{2 x^{3} - x} - \\frac{x}{2 x^{3} - x}$"
          },
          "metadata": {}
        },
        {
          "output_type": "display_data",
          "data": {
            "text/plain": [
              "<IPython.core.display.Math object>"
            ],
            "text/latex": "$\\displaystyle \\frac{4 x^{5} - x}{2 x^{3} - x} = 2 x^{2} + 1$"
          },
          "metadata": {}
        }
      ],
      "source": [
        "x,y = sym.symbols('x,y')\n",
        "\n",
        "p1 = 4*x**5 - x\n",
        "p2 = 2*x**3-x\n",
        "\n",
        "display(Math('\\\\frac{%s}{%s} = %s' %(sym.latex(p1),sym.latex(p2),sym.latex(p1/p2)) ))\n",
        "\n",
        "display(Math('\\\\frac{%s}{%s} = %s' %(sym.latex(p1),sym.latex(p2),sym.latex(sym.expand(p1/p2))) ))\n",
        "\n",
        "display(Math('\\\\frac{%s}{%s} = %s' %(sym.latex(p1),sym.latex(p2),sym.latex(sym.simplify(p1/p2))) ))\n"
      ]
    },
    {
      "cell_type": "code",
      "execution_count": null,
      "metadata": {
        "id": "aLT7IbWUeQ8J",
        "colab": {
          "base_uri": "https://localhost:8080/",
          "height": 57
        },
        "outputId": "10b11a15-f4d1-46b8-8131-9374b92dfb0c"
      },
      "outputs": [
        {
          "output_type": "display_data",
          "data": {
            "text/plain": [
              "<IPython.core.display.Math object>"
            ],
            "text/latex": "$\\displaystyle \\frac{x^{3} - 4 x^{2} y + x y + y^{2} + 4 y}{x + y} = \\frac{x^{3} - 4 x^{2} y + x y + y^{2} + 4 y}{x + y}$"
          },
          "metadata": {}
        }
      ],
      "source": [
        "# con 2 variabili\n",
        "\n",
        "pNum = x**3 + y**2 - 4*x**2*y + x*y + 4*y\n",
        "pDen = x + y\n",
        "\n",
        "display(Math('\\\\frac{%s}{%s} = %s' %(sym.latex(pNum),sym.latex(pDen),sym.latex(sym.simplify(pNum/pDen))) ))\n"
      ]
    },
    {
      "cell_type": "markdown",
      "metadata": {
        "id": "04dJu11UeQ8J"
      },
      "source": [
        "### Esercizio"
      ]
    },
    {
      "cell_type": "code",
      "execution_count": null,
      "metadata": {
        "id": "JSthfsogeQ8J",
        "colab": {
          "base_uri": "https://localhost:8080/"
        },
        "outputId": "2ef65295-0028-410e-cc91-7ac37b5dcdad"
      },
      "outputs": [
        {
          "output_type": "stream",
          "name": "stdout",
          "text": [
            "<class 'tuple'>\n",
            "3\n",
            "3\n"
          ]
        }
      ],
      "source": [
        "# Usiamo la funzione fraction() di SymPy, che viene utilizzata per ottenere la rappresentazione frazionaria di un'espressione simbolica.\n",
        "\n",
        "# Creiamo due oggetti simbolici SymPy rappresentanti i numeri 3 e 4, rispettivamente, utilizzando la funzione sympify.\n",
        "# Questi due numeri vengono quindi divisi per ottenere un'espressione simbolica che rappresenta 3/4\n",
        "\n",
        "num = sym.sympify(3)/sym.sympify(4)\n",
        "\n",
        "finfo = sym.fraction(num)\n",
        "print(type(finfo))\n",
        "print(finfo[0]) # stampiamo il numeratore di finfo\n",
        "\n",
        "# estraggo il numeratore della frazione dalla tupla e assegnarlo nuovamente alla variabile num.\n",
        "num = sym.fraction(num)[0]\n",
        "print(num)"
      ]
    },
    {
      "cell_type": "code",
      "execution_count": null,
      "metadata": {
        "id": "S4dZmrq8eQ8J",
        "colab": {
          "base_uri": "https://localhost:8080/",
          "height": 455
        },
        "outputId": "0a4f5140-03ae-4daa-c89a-d9188180ea67"
      },
      "outputs": [
        {
          "output_type": "display_data",
          "data": {
            "text/plain": [
              "<IPython.core.display.Math object>"
            ],
            "text/latex": "$\\displaystyle \\frac{x^{6} + 2 x^{4} + 6 x - 5}{x^{3} + 3} = \\frac{x^{6} + 2 x^{4} + 6 x - 5}{x^{3} + 3}$"
          },
          "metadata": {}
        },
        {
          "output_type": "display_data",
          "data": {
            "text/plain": [
              "<IPython.core.display.Math object>"
            ],
            "text/latex": "$\\displaystyle \\frac{x^{6} + 2 x^{4} + 6 x - 6}{x^{3} + 3} = \\frac{x^{6} + 2 x^{4} + 6 x - 6}{x^{3} + 3}$"
          },
          "metadata": {}
        },
        {
          "output_type": "display_data",
          "data": {
            "text/plain": [
              "<IPython.core.display.Math object>"
            ],
            "text/latex": "$\\displaystyle \\frac{x^{6} + 2 x^{4} + 6 x - 7}{x^{3} + 3} = \\frac{x^{6} + 2 x^{4} + 6 x - 7}{x^{3} + 3}$"
          },
          "metadata": {}
        },
        {
          "output_type": "display_data",
          "data": {
            "text/plain": [
              "<IPython.core.display.Math object>"
            ],
            "text/latex": "$\\displaystyle \\frac{x^{6} + 2 x^{4} + 6 x - 8}{x^{3} + 3} = \\frac{x^{6} + 2 x^{4} + 6 x - 8}{x^{3} + 3}$"
          },
          "metadata": {}
        },
        {
          "output_type": "display_data",
          "data": {
            "text/plain": [
              "<IPython.core.display.Math object>"
            ],
            "text/latex": "$\\displaystyle \\frac{x^{6} + 2 x^{4} + 6 x - 9}{x^{3} + 3} = x^{3} + 2 x - 3$"
          },
          "metadata": {}
        },
        {
          "output_type": "display_data",
          "data": {
            "text/plain": [
              "<IPython.core.display.Math object>"
            ],
            "text/latex": "$\\displaystyle \\frac{x^{6} + 2 x^{4} + 6 x - 10}{x^{3} + 3} = \\frac{x^{6} + 2 x^{4} + 6 x - 10}{x^{3} + 3}$"
          },
          "metadata": {}
        },
        {
          "output_type": "display_data",
          "data": {
            "text/plain": [
              "<IPython.core.display.Math object>"
            ],
            "text/latex": "$\\displaystyle \\frac{x^{6} + 2 x^{4} + 6 x - 11}{x^{3} + 3} = \\frac{x^{6} + 2 x^{4} + 6 x - 11}{x^{3} + 3}$"
          },
          "metadata": {}
        },
        {
          "output_type": "display_data",
          "data": {
            "text/plain": [
              "<IPython.core.display.Math object>"
            ],
            "text/latex": "$\\displaystyle \\frac{x^{6} + 2 x^{4} + 6 x - 12}{x^{3} + 3} = \\frac{x^{6} + 2 x^{4} + 6 x - 12}{x^{3} + 3}$"
          },
          "metadata": {}
        },
        {
          "output_type": "display_data",
          "data": {
            "text/plain": [
              "<IPython.core.display.Math object>"
            ],
            "text/latex": "$\\displaystyle \\frac{x^{6} + 2 x^{4} + 6 x - 13}{x^{3} + 3} = \\frac{x^{6} + 2 x^{4} + 6 x - 13}{x^{3} + 3}$"
          },
          "metadata": {}
        },
        {
          "output_type": "display_data",
          "data": {
            "text/plain": [
              "<IPython.core.display.Math object>"
            ],
            "text/latex": "$\\displaystyle \\frac{x^{6} + 2 x^{4} + 6 x - 14}{x^{3} + 3} = \\frac{x^{6} + 2 x^{4} + 6 x - 14}{x^{3} + 3}$"
          },
          "metadata": {}
        },
        {
          "output_type": "display_data",
          "data": {
            "text/plain": [
              "<IPython.core.display.Math object>"
            ],
            "text/latex": "$\\displaystyle \\frac{x^{6} + 2 x^{4} + 6 x - 15}{x^{3} + 3} = \\frac{x^{6} + 2 x^{4} + 6 x - 15}{x^{3} + 3}$"
          },
          "metadata": {}
        },
        {
          "output_type": "stream",
          "name": "stdout",
          "text": [
            "When y=9, there is no denominator!\n"
          ]
        }
      ],
      "source": [
        "# usiamo un ciclo per trovare il valore (intero) di y che semplifica questa equazione\n",
        "\n",
        "y = sym.Symbol('y')\n",
        "pNum = x**6 + 2*x**4 + 6*x  - y\n",
        "pDen = x**3 + 3\n",
        "\n",
        "for i in range(5,16):\n",
        "\n",
        "  pnum = pNum.subs({y:i})\n",
        "  display(Math('\\\\frac{%s}{%s} = %s' %(sym.latex(pnum),sym.latex(pDen),sym.latex(sym.simplify(pnum/pDen))) ))\n",
        "\n",
        "  if sym.fraction(sym.simplify(pnum/pDen))[1]==1:\n",
        "    rightnumber = i\n",
        "\n",
        "print( 'When y=%g, there is no denominator!' %rightnumber)\n"
      ]
    },
    {
      "cell_type": "markdown",
      "source": [
        "## Espandere un'espressione polinomiale\n",
        "\n",
        "Dato un polinomio, expand() lo metterà nella forma canonica di una somma di monomi.\n",
        "\n",
        "expand() potrebbe non sembrare una funzione di semplificazione. Ed in effetti, solitamente rende le espressioni più grandi, non più piccole."
      ],
      "metadata": {
        "id": "QZgxqDM02Anh"
      }
    },
    {
      "cell_type": "code",
      "execution_count": null,
      "metadata": {
        "id": "4sGjPUk8eQ74",
        "colab": {
          "base_uri": "https://localhost:8080/",
          "height": 73
        },
        "outputId": "9ed8aeec-6b3d-4fa4-eb75-1feb5270923f"
      },
      "outputs": [
        {
          "output_type": "stream",
          "name": "stdout",
          "text": [
            "x*(4*x + 5)\n",
            "4*x**2 + 5*x\n"
          ]
        },
        {
          "output_type": "display_data",
          "data": {
            "text/plain": [
              "<IPython.core.display.Math object>"
            ],
            "text/latex": "$\\displaystyle 4 x^{2} + 5 x$"
          },
          "metadata": {}
        }
      ],
      "source": [
        "from sympy.abc import x\n",
        "\n",
        "term1 = (4*x + 5)\n",
        "term2 = x\n",
        "\n",
        "print( term1*term2 )\n",
        "print( sym.expand(term1*term2) )\n",
        "display(Math(sym.latex(sym.expand(term1*term2))))"
      ]
    },
    {
      "cell_type": "code",
      "execution_count": null,
      "metadata": {
        "id": "tZ2HzkeNeQ74",
        "colab": {
          "base_uri": "https://localhost:8080/",
          "height": 60
        },
        "outputId": "45c087b8-25dd-4603-860c-1c34ade68465"
      },
      "outputs": [
        {
          "output_type": "display_data",
          "data": {
            "text/plain": [
              "<IPython.core.display.Math object>"
            ],
            "text/latex": "$\\displaystyle \\left(x - 7\\right) \\left(4 x + 5\\right)$"
          },
          "metadata": {}
        },
        {
          "output_type": "display_data",
          "data": {
            "text/plain": [
              "<IPython.core.display.Math object>"
            ],
            "text/latex": "$\\displaystyle 4 x^{2} - 23 x - 35$"
          },
          "metadata": {}
        }
      ],
      "source": [
        "term3 = x - 7 # note that parentheses are not necessary!\n",
        "\n",
        "display(Math( sym.latex(term1*term3) ))\n",
        "display(Math( sym.latex(sym.expand(term1*term3))))"
      ]
    },
    {
      "cell_type": "code",
      "execution_count": null,
      "metadata": {
        "id": "oTOh1oyyeQ74",
        "colab": {
          "base_uri": "https://localhost:8080/",
          "height": 38
        },
        "outputId": "97014b10-a497-44a4-e717-c7d5a8c42fb7"
      },
      "outputs": [
        {
          "output_type": "execute_result",
          "data": {
            "text/plain": [
              "-5**x + 2*x*y**2"
            ],
            "text/latex": "$\\displaystyle - 5^{x} + 2 x y^{2}$"
          },
          "metadata": {},
          "execution_count": 23
        }
      ],
      "source": [
        "# Esempio con due variabili\n",
        "y = sym.symbols('y')\n",
        "\n",
        "expr = x*(2*y**2 - 5**x/x)\n",
        "sym.expand(expr)"
      ]
    },
    {
      "cell_type": "code",
      "execution_count": null,
      "metadata": {
        "id": "vfEeFLyjeQ74",
        "colab": {
          "base_uri": "https://localhost:8080/"
        },
        "outputId": "a4d9020f-a913-44de-d779-7db95b52e5c6"
      },
      "outputs": [
        {
          "output_type": "stream",
          "name": "stdout",
          "text": [
            "Variable   Type        Data/Info\n",
            "--------------------------------\n",
            "Math       type        <class 'IPython.core.display.Math'>\n",
            "display    function    <function display at 0x7c3ac22f8a60>\n",
            "expr       Mul         x*(-5**x/x + 2*y**2)\n",
            "np         module      <module 'numpy' from '/us<...>kages/numpy/__init__.py'>\n",
            "p1         Poly        Poly(2*x**6 + x**2 - x, x, domain='ZZ')\n",
            "p2         Add         -x**4 + x**3 - 4*x**2\n",
            "po         Add         x**2 + 4*x + 3\n",
            "poli       Poly        Poly(1.0*x**5 - 1.0*x**4 <...>*x + 4.0, x, domain='RR')\n",
            "polys      list        n=3\n",
            "sym        module      <module 'sympy' from '/us<...>kages/sympy/__init__.py'>\n",
            "term1      Add         4*x + 5\n",
            "term2      Symbol      x\n",
            "term3      Add         x - 7\n",
            "x          Symbol      x\n",
            "y          Symbol      y\n"
          ]
        }
      ],
      "source": [
        "# Se volessimo aggiungere altre variabili, ricordiamoci di non creare sovrapposizioni\n",
        "# quindi riepiloghiamo le variabili che abbiamo già creato??\n",
        "%whos\n"
      ]
    },
    {
      "cell_type": "code",
      "execution_count": null,
      "metadata": {
        "id": "4cME4tYfeQ74",
        "colab": {
          "base_uri": "https://localhost:8080/",
          "height": 130
        },
        "outputId": "10f8dfce-6480-47b1-9b65-c0b7fdd4350b"
      },
      "outputs": [
        {
          "output_type": "display_data",
          "data": {
            "text/plain": [
              "<IPython.core.display.Math object>"
            ],
            "text/latex": "$\\displaystyle \\left(x + 3\\right) \\left(3 x + \\frac{5}{z}\\right) \\left(y - 4 z\\right)$"
          },
          "metadata": {}
        },
        {
          "output_type": "display_data",
          "data": {
            "text/plain": [
              "<IPython.core.display.Math object>"
            ],
            "text/latex": "$\\displaystyle 3 x^{2} y - 12 x^{2} z + 9 x y + \\frac{5 x y}{z} - 36 x z - 20 x + \\frac{15 y}{z} - 60$"
          },
          "metadata": {}
        },
        {
          "output_type": "display_data",
          "data": {
            "text/plain": [
              "<IPython.core.display.Math object>"
            ],
            "text/latex": "$\\displaystyle \\frac{5 x y + 15 y + z \\left(3 x^{2} y - 12 x^{2} z + 9 x y - 36 x z - 20 x - 60\\right)}{z}$"
          },
          "metadata": {}
        }
      ],
      "source": [
        "z = sym.symbols('z')\n",
        "\n",
        "term1 = (3 + x)\n",
        "term2 = (y - 4*z)\n",
        "term3 = (5/z + 3*x)\n",
        "\n",
        "display(Math(sym.latex(term1*term2*term3)))\n",
        "display(Math(sym.latex(sym.expand(term1*term2*term3))))\n",
        "display(Math(sym.latex(sym.simplify(sym.expand(term1*term2*term3)))))"
      ]
    },
    {
      "cell_type": "markdown",
      "metadata": {
        "id": "uDiELXv9eQ74"
      },
      "source": [
        "### Esercizio"
      ]
    },
    {
      "cell_type": "code",
      "execution_count": null,
      "metadata": {
        "id": "-3PhdqhEeQ74",
        "colab": {
          "base_uri": "https://localhost:8080/"
        },
        "outputId": "39463eab-16a3-462c-b848-a3fdb6b17c02"
      },
      "outputs": [
        {
          "output_type": "stream",
          "name": "stdout",
          "text": [
            "24\n"
          ]
        }
      ],
      "source": [
        "# definiamo una funzione di due variabili\n",
        "Fxy = (4+x)*(2-y)\n",
        "\n",
        "print(Fxy.subs({x:2,y:-2}))"
      ]
    },
    {
      "cell_type": "code",
      "execution_count": null,
      "metadata": {
        "id": "DmfNUxKweQ74",
        "colab": {
          "base_uri": "https://localhost:8080/"
        },
        "outputId": "fa52e473-3d08-417c-c4af-e42de1a15b18"
      },
      "outputs": [
        {
          "output_type": "stream",
          "name": "stdout",
          "text": [
            "When x=0 and y=0, f(x,y)=8\n",
            "When x=0 and y=1, f(x,y)=4\n",
            "When x=0 and y=2, f(x,y)=0\n",
            "When x=1 and y=0, f(x,y)=10\n",
            "When x=1 and y=1, f(x,y)=5\n",
            "When x=1 and y=2, f(x,y)=0\n",
            "When x=2 and y=0, f(x,y)=12\n",
            "When x=2 and y=1, f(x,y)=6\n",
            "When x=2 and y=2, f(x,y)=0\n"
          ]
        }
      ],
      "source": [
        "# cicliamo sui valori 0,1,2 per x e y e valutiamo la nostra funzione\n",
        "numrange = range(0,3)\n",
        "for i in numrange:\n",
        "  for j in numrange:\n",
        "    print('When x=%g and y=%g, f(x,y)=%g' %(i,j,Fxy.subs({x:i,y:j})) )"
      ]
    },
    {
      "cell_type": "markdown",
      "source": [
        "### Alcuni dei placeholder più comuni che Python offre per la formattazione delle stringhe\n",
        "\n",
        "* %g è un tipo di formattazione in Python che determina automaticamente il formato migliore per la rappresentazione di un valore numerico, scegliendo tra la rappresentazione in formato \"fisso\" e \"esponenziale\" in base alla lunghezza del numero e alla presenza o meno di zeri superflui.\n",
        "Se il numero è molto grande o molto piccolo, verrà utilizzata la notazione esponenziale.\n",
        "Altrimenti, verrà utilizzata la rappresentazione in formato fisso.\n",
        "* %s è utilizzato per formattare qualsiasi tipo di dato in una stringa.\n",
        "* %d - Placeholder per formattare numeri interi. Se il valore fornito è un numero decimale, verrà troncato al numero intero più vicino.\n",
        "* %f - Placeholder per formattare numeri floating-point (float). Può essere utilizzato per specificare il numero di cifre decimali da visualizzare dopo il punto decimale, ad esempio %0.2f per visualizzare solo due cifre decimali.\n",
        "* %e - Placeholder per formattare numeri floating-point in notazione scientifica (esponenziale).\n",
        "* %x, %X - Placeholder per formattare numeri interi in esadecimale (base 16). %x visualizza lettere minuscole come cifre esadecimali (da 0 a 9 e da a a f), mentre %X visualizza lettere maiuscole (da 0 a 9 e da A a F).\n",
        "* %o - Placeholder per formattare numeri interi in ottale (base 8).\n",
        "* %% - Per inserire il carattere di percentuale % letterale nella stringa."
      ],
      "metadata": {
        "id": "cR045e9-bMlj"
      }
    },
    {
      "cell_type": "markdown",
      "source": [
        "## Riduzione in fattori di un polinomio\n",
        "\n",
        "factor() prende un polinomio e lo scompone in fattori irriducibili."
      ],
      "metadata": {
        "id": "gdcOJYSI2TwN"
      }
    },
    {
      "cell_type": "code",
      "execution_count": null,
      "metadata": {
        "id": "B3urVuF1eQ8K",
        "colab": {
          "base_uri": "https://localhost:8080/",
          "height": 38
        },
        "outputId": "503a9817-a8d8-4bcf-affc-c8f96b8d03af"
      },
      "outputs": [
        {
          "output_type": "execute_result",
          "data": {
            "text/plain": [
              "(x + 1)*(x + 3)"
            ],
            "text/latex": "$\\displaystyle \\left(x + 1\\right) \\left(x + 3\\right)$"
          },
          "metadata": {},
          "execution_count": 33
        }
      ],
      "source": [
        "x,y = sym.symbols('x,y')\n",
        "\n",
        "po = x**2 + 4*x + 3\n",
        "sym.factor(po)"
      ]
    },
    {
      "cell_type": "code",
      "execution_count": null,
      "metadata": {
        "id": "GQBY8oc_eQ8K",
        "colab": {
          "base_uri": "https://localhost:8080/",
          "height": 38
        },
        "outputId": "221fc2c3-d40a-4620-87f4-b9fd90909229"
      },
      "outputs": [
        {
          "output_type": "execute_result",
          "data": {
            "text/plain": [
              "x**2 + 4*x - 3"
            ],
            "text/latex": "$\\displaystyle x^{2} + 4 x - 3$"
          },
          "metadata": {},
          "execution_count": 35
        }
      ],
      "source": [
        "# non tutti i polinomi possono essere ridotti in fattori...\n",
        "po = x**2 + 4*x - 3\n",
        "\n",
        "sym.factor(po)"
      ]
    },
    {
      "cell_type": "code",
      "execution_count": null,
      "metadata": {
        "id": "v-_6BeGGeQ8K",
        "colab": {
          "base_uri": "https://localhost:8080/",
          "height": 38
        },
        "outputId": "28304589-0a42-4df9-f6ef-b262690bc32a"
      },
      "outputs": [
        {
          "output_type": "execute_result",
          "data": {
            "text/plain": [
              "2*(y - 3)*(y - 1)*(y + 3)"
            ],
            "text/latex": "$\\displaystyle 2 \\left(y - 3\\right) \\left(y - 1\\right) \\left(y + 3\\right)$"
          },
          "metadata": {},
          "execution_count": 36
        }
      ],
      "source": [
        "expr = 2*y**3 - 2*y**2 - 18*y + 18\n",
        "sym.factor(expr)"
      ]
    },
    {
      "cell_type": "code",
      "execution_count": null,
      "metadata": {
        "id": "51OMm-fheQ8K",
        "colab": {
          "base_uri": "https://localhost:8080/",
          "height": 38
        },
        "outputId": "1e97d8eb-3cce-487f-d887-447d92c44917"
      },
      "outputs": [
        {
          "output_type": "execute_result",
          "data": {
            "text/plain": [
              "2*x*(x*y + 3)*(x - y + 1)"
            ],
            "text/latex": "$\\displaystyle 2 x \\left(x y + 3\\right) \\left(x - y + 1\\right)$"
          },
          "metadata": {},
          "execution_count": 37
        }
      ],
      "source": [
        "# multiple variables\n",
        "expr = 2*x**3*y - 2*x**2*y**2 + 2*x**2*y + 6*x**2 - 6*x*y + 6*x\n",
        "sym.factor(expr)\n"
      ]
    },
    {
      "cell_type": "markdown",
      "metadata": {
        "id": "QcVGgtpheQ8K"
      },
      "source": [
        "### Esercizio"
      ]
    },
    {
      "cell_type": "code",
      "execution_count": null,
      "metadata": {
        "id": "ahMGuSCxeQ8K",
        "colab": {
          "base_uri": "https://localhost:8080/",
          "height": 81
        },
        "outputId": "b66631f1-10d0-4e36-f3fa-be78d844baf2"
      },
      "outputs": [
        {
          "output_type": "display_data",
          "data": {
            "text/plain": [
              "<IPython.core.display.Math object>"
            ],
            "text/latex": "$\\displaystyle x^{2} + 4 x + 3 \\quad\\Rightarrow\\quad \\left(x + 1\\right) \\left(x + 3\\right)$"
          },
          "metadata": {}
        },
        {
          "output_type": "display_data",
          "data": {
            "text/plain": [
              "<IPython.core.display.Math object>"
            ],
            "text/latex": "$\\displaystyle 2 y^{2} - 1 \\quad\\Rightarrow\\quad\\text{ not factorable!}$"
          },
          "metadata": {}
        },
        {
          "output_type": "display_data",
          "data": {
            "text/plain": [
              "<IPython.core.display.Math object>"
            ],
            "text/latex": "$\\displaystyle 3 y^{2} + 12 y \\quad\\Rightarrow\\quad 3 y \\left(y + 4\\right)$"
          },
          "metadata": {}
        }
      ],
      "source": [
        "# verifica che il polinomio sia riducibile in fattori: se lo è, stampa la sua forma ridotta in fattori\n",
        "\n",
        "exprs = [ x**2+4*x+3 , 2*y**2-1 , 3*y**2+12*y ]\n",
        "\n",
        "for expri in exprs:\n",
        "    tmp = str( sym.factor(expri) )\n",
        "    if tmp.find('(')!=-1:\n",
        "      display(Math('%s \\\\quad\\\\Rightarrow\\\\quad %s' %(sym.latex(sym.expand(expri)),sym.latex(sym.factor(expri)))))\n",
        "    else:\n",
        "      display(Math('%s \\\\quad\\\\Rightarrow\\\\quad\\\\text{ not factorable!}' %sym.latex(sym.expand(expri))))\n"
      ]
    },
    {
      "cell_type": "markdown",
      "source": [
        "## Moltiplicare polinomi"
      ],
      "metadata": {
        "id": "P-aqhoCN3ROT"
      }
    },
    {
      "cell_type": "code",
      "execution_count": null,
      "metadata": {
        "id": "7rkMTLIDeQ8I",
        "colab": {
          "base_uri": "https://localhost:8080/",
          "height": 38
        },
        "outputId": "19cc6716-32ac-4928-d4ba-d97eb4356317"
      },
      "outputs": [
        {
          "output_type": "execute_result",
          "data": {
            "text/plain": [
              "x**5"
            ],
            "text/latex": "$\\displaystyle x^{5}$"
          },
          "metadata": {},
          "execution_count": 17
        }
      ],
      "source": [
        "x = sym.symbols('x')\n",
        "\n",
        "x**2 * x**3"
      ]
    },
    {
      "cell_type": "code",
      "execution_count": null,
      "metadata": {
        "id": "DWEmSvdweQ8I",
        "colab": {
          "base_uri": "https://localhost:8080/",
          "height": 38
        },
        "outputId": "42245e1f-9d26-4020-dcdb-b3c28d3b7c3c"
      },
      "outputs": [
        {
          "output_type": "execute_result",
          "data": {
            "text/plain": [
              "(4*x**2 - 2*x)*(x**3 + 1)"
            ],
            "text/latex": "$\\displaystyle \\left(4 x^{2} - 2 x\\right) \\left(x^{3} + 1\\right)$"
          },
          "metadata": {},
          "execution_count": 20
        }
      ],
      "source": [
        "# a litte more complicated\n",
        "p1 = 4*x**2 - 2*x\n",
        "p2 = x**3 + 1\n",
        "\n",
        "#Attenzione che nei due modi seguenti (equivalenti) non state stampando il prodotto!\n",
        "p1*p2"
      ]
    },
    {
      "cell_type": "code",
      "source": [
        "display(Math(sym.latex(p1*p2)))"
      ],
      "metadata": {
        "colab": {
          "base_uri": "https://localhost:8080/",
          "height": 38
        },
        "id": "Up6kNOXyqIYa",
        "outputId": "39679b39-7883-40ef-c804-f4764f81cbf6"
      },
      "execution_count": null,
      "outputs": [
        {
          "output_type": "display_data",
          "data": {
            "text/plain": [
              "<IPython.core.display.Math object>"
            ],
            "text/latex": "$\\displaystyle \\left(4 x^{2} - 2 x\\right) \\left(x^{3} + 1\\right)$"
          },
          "metadata": {}
        }
      ]
    },
    {
      "cell_type": "code",
      "execution_count": null,
      "metadata": {
        "id": "2R1TmdYjeQ8J",
        "colab": {
          "base_uri": "https://localhost:8080/",
          "height": 56
        },
        "outputId": "70c801d7-10dd-4ed1-a453-30f371923e91"
      },
      "outputs": [
        {
          "output_type": "stream",
          "name": "stdout",
          "text": [
            "4*x**5 - 2*x**4 + 4*x**2 - 2*x\n"
          ]
        },
        {
          "output_type": "display_data",
          "data": {
            "text/plain": [
              "<IPython.core.display.Math object>"
            ],
            "text/latex": "$\\displaystyle 4 x^{5} - 2 x^{4} + 4 x^{2} - 2 x$"
          },
          "metadata": {}
        }
      ],
      "source": [
        "#Per stampare il prodotto dovete procedere in uno dei seguenti modi:\n",
        "\n",
        "print( sym.expand( p1*p2 ) )\n",
        "display(Math(sym.latex(sym.expand(p1*p2))))\n"
      ]
    },
    {
      "cell_type": "code",
      "execution_count": null,
      "metadata": {
        "id": "PD3H-D_SeQ8J",
        "colab": {
          "base_uri": "https://localhost:8080/",
          "height": 38
        },
        "outputId": "639a21fe-e18e-4108-8633-837218b2e845"
      },
      "outputs": [
        {
          "output_type": "execute_result",
          "data": {
            "text/plain": [
              "(-3*x*y + x)*(x**5 + 2*x*y + y**2)"
            ],
            "text/latex": "$\\displaystyle \\left(- 3 x y + x\\right) \\left(x^{5} + 2 x y + y^{2}\\right)$"
          },
          "metadata": {},
          "execution_count": 23
        }
      ],
      "source": [
        "# Stesso discorso se ho due variabili\n",
        "x,y = sym.symbols('x,y')\n",
        "\n",
        "poly1 = x**5 + 2*x*y + y**2\n",
        "poly2 = x - 3*x*y\n",
        "\n",
        "poly1*poly2"
      ]
    },
    {
      "cell_type": "code",
      "execution_count": null,
      "metadata": {
        "id": "rpLqqkc7eQ8J",
        "colab": {
          "base_uri": "https://localhost:8080/",
          "height": 38
        },
        "outputId": "c04dc547-cf50-4a70-c7e2-af12bcc4d509"
      },
      "outputs": [
        {
          "output_type": "display_data",
          "data": {
            "text/plain": [
              "<IPython.core.display.Math object>"
            ],
            "text/latex": "$\\displaystyle - 3 x^{6} y + x^{6} - 6 x^{2} y^{2} + 2 x^{2} y - 3 x y^{3} + x y^{2}$"
          },
          "metadata": {}
        }
      ],
      "source": [
        "display(Math(sym.latex(sym.expand( poly1*poly2 ))))"
      ]
    },
    {
      "cell_type": "markdown",
      "metadata": {
        "id": "2EWW8M_ueQ8J"
      },
      "source": [
        "### Esercizio"
      ]
    },
    {
      "cell_type": "code",
      "execution_count": null,
      "metadata": {
        "id": "Q6Xls_6XeQ8J",
        "colab": {
          "base_uri": "https://localhost:8080/",
          "height": 60
        },
        "outputId": "53c2924f-b577-4943-f8a2-34bacc955998"
      },
      "outputs": [
        {
          "output_type": "display_data",
          "data": {
            "text/plain": [
              "<IPython.core.display.Math object>"
            ],
            "text/latex": "$\\displaystyle (4 x^{4} - 3 x^{2} + x y^{2} - 9 y^{3})\\quad\\times\\quad(- x^{3} + 6 x^{2} y + 0.8 y^{3}) \\quad=\\quad - 4 x^{7} + 24 x^{6} y + 3 x^{5} + 3.2 x^{4} y^{3} - x^{4} y^{2} - 18 x^{4} y + 15 x^{3} y^{3} - 54 x^{2} y^{4} - 2.4 x^{2} y^{3} + 0.8 x y^{5} - 7.2 y^{6}$"
          },
          "metadata": {}
        }
      ],
      "source": [
        "# with x's and y's, substitute before vs after multiplication\n",
        "x,y = sym.symbols('x,y')\n",
        "\n",
        "fxy = 4*x**4 - 9*y**3 - 3*x**2 + x*y**2\n",
        "gxy = 4/5*y**3 - x**3 + 6*x**2*y\n",
        "\n",
        "display(Math( '(%s)\\quad\\\\times\\quad(%s) \\quad=\\quad %s' %(sym.latex(fxy),sym.latex(gxy),sym.latex(sym.expand(fxy*gxy)) )))\n"
      ]
    },
    {
      "cell_type": "code",
      "execution_count": null,
      "metadata": {
        "id": "0JWH1-7aeQ8J",
        "colab": {
          "base_uri": "https://localhost:8080/"
        },
        "outputId": "251205e6-683d-4a71-fd1c-c7e86886074b"
      },
      "outputs": [
        {
          "output_type": "stream",
          "name": "stdout",
          "text": [
            "Separate substitution: -1085833.80000000\n",
            "Multiplied substitution: -1085833.80000000\n"
          ]
        }
      ],
      "source": [
        "xval = 5\n",
        "yval = -2\n",
        "\n",
        "# first substitute and then multiply\n",
        "fxy_subs = fxy.subs({x:xval,y:yval})\n",
        "gxy_subs = gxy.subs({x:xval,y:yval})\n",
        "print('Separate substitution: %s' %(fxy_subs*gxy_subs))\n",
        "\n",
        "# multiply then substitute\n",
        "fg = (fxy*gxy).subs({x:xval,y:yval})\n",
        "print('Multiplied substitution: %s' %fg)\n"
      ]
    },
    {
      "cell_type": "markdown",
      "source": [
        "## Risolvere un'equazione o un sistema di equazioni\n",
        "\n",
        "* Per le soluzioni di equazioni simboliche si utilizzano: solve() e solveset(). La sintassi per solveset è: solveset(equation, variable=None, domain=S.Complexes) dove le equazioni possono essere sotto forma di istanze o espressioni di Eq che si presuppone siano uguali a zero.\n",
        "Esiste un'altra funzione  che può essere utilizzata anche per risolvere equazioni: solve(equazioni, variabili).\n",
        "* Per trovare una soluzione numerica, si deve usare nsolve()."
      ],
      "metadata": {
        "id": "KGR3i53B3dOW"
      }
    },
    {
      "cell_type": "code",
      "execution_count": null,
      "metadata": {
        "id": "ChxWZpX7eQ72",
        "colab": {
          "base_uri": "https://localhost:8080/"
        },
        "outputId": "3136bc4b-1427-41b9-c344-15faa400f590"
      },
      "outputs": [
        {
          "output_type": "execute_result",
          "data": {
            "text/plain": [
              "[5/2]"
            ]
          },
          "metadata": {},
          "execution_count": 26
        }
      ],
      "source": [
        "# l'espressione che vogliamo risolvere è 2x+4=9\n",
        "\n",
        "x = sym.symbols('x')\n",
        "expr = 2*x + 4 - 9\n",
        "sym.solve(expr,x)"
      ]
    },
    {
      "cell_type": "code",
      "execution_count": null,
      "metadata": {
        "id": "hrma2Bx1eQ72",
        "colab": {
          "base_uri": "https://localhost:8080/",
          "height": 57
        },
        "outputId": "fde25565-0988-4994-dbaa-74b18f98e60f"
      },
      "outputs": [
        {
          "output_type": "display_data",
          "data": {
            "text/plain": [
              "'The solution to 2*x - 5 is 2.5'"
            ],
            "application/vnd.google.colaboratory.intrinsic+json": {
              "type": "string"
            }
          },
          "metadata": {}
        },
        {
          "output_type": "display_data",
          "data": {
            "text/plain": [
              "<IPython.core.display.Math object>"
            ],
            "text/latex": "$\\displaystyle \\text{The solution to }2 x - 5\\text{ is x=}2.5$"
          },
          "metadata": {}
        }
      ],
      "source": [
        "# riscriviamola meglio\n",
        "\n",
        "sol = sym.solve(expr,x)\n",
        "\n",
        "display('The solution to %s is %g'%(expr,sol[0]))\n",
        "# oppure\n",
        "display(Math('\\\\text{The solution to }%s\\\\text{ is x=}%g' %(sym.latex(expr),sol[0])))"
      ]
    },
    {
      "cell_type": "code",
      "execution_count": null,
      "metadata": {
        "id": "jYJ9OyOpeQ72",
        "colab": {
          "base_uri": "https://localhost:8080/"
        },
        "outputId": "c2ab0943-c978-48b1-b17f-c359a54c8e92"
      },
      "outputs": [
        {
          "output_type": "execute_result",
          "data": {
            "text/plain": [
              "[-2, 2]"
            ]
          },
          "metadata": {},
          "execution_count": 20
        }
      ],
      "source": [
        "# si può inserire l'equazione direttamente come argomento della funzione di risoluzione\n",
        "sym.solve(x**2 - 4, x)"
      ]
    },
    {
      "cell_type": "code",
      "execution_count": null,
      "metadata": {
        "id": "sBZHiOLPeQ72",
        "colab": {
          "base_uri": "https://localhost:8080/"
        },
        "outputId": "7d149acd-5697-4395-9fc3-6d159b74c860"
      },
      "outputs": [
        {
          "output_type": "stream",
          "name": "stdout",
          "text": [
            "<class 'list'>\n",
            "2\n"
          ]
        }
      ],
      "source": [
        "# notare che la soluzione è memorizzata come una lista, con una soluzione per elemento\n",
        "sol = sym.solve(x**2 - 4, x)\n",
        "\n",
        "print( type(sol) )\n",
        "print( len(sol) )"
      ]
    },
    {
      "cell_type": "code",
      "execution_count": null,
      "metadata": {
        "id": "Ue3mt-oleQ72",
        "colab": {
          "base_uri": "https://localhost:8080/"
        },
        "outputId": "e9dbd3cb-fb99-4e2f-c499-423b24f2c733"
      },
      "outputs": [
        {
          "output_type": "stream",
          "name": "stdout",
          "text": [
            "Solution #1 is -2\n",
            "Solution #2 is 2\n"
          ]
        }
      ],
      "source": [
        "# ce le facciamo stampare\n",
        "for i in range(0,len(sol)):\n",
        "  print('Solution #' + str(i+1) + ' is ' + str(sol[i]))\n"
      ]
    },
    {
      "cell_type": "code",
      "execution_count": null,
      "metadata": {
        "id": "t2HujQeteQ73",
        "colab": {
          "base_uri": "https://localhost:8080/"
        },
        "outputId": "cd52d29d-9761-41fc-ab53-9bd89375ba33"
      },
      "outputs": [
        {
          "output_type": "stream",
          "name": "stdout",
          "text": [
            "Solved for x: 20/(4*y - 1)\n",
            "Solved for y: [(x + 20)/(4*x)]\n"
          ]
        }
      ],
      "source": [
        "y = sym.symbols('y')\n",
        "\n",
        "expr = x/4 - x*y + 5\n",
        "\n",
        "print( \"Solved for x: \" + str(sym.solve(expr,x)[0]) )\n",
        "print( \"Solved for y: \" + str(sym.solve(expr,y)) )\n"
      ]
    },
    {
      "cell_type": "markdown",
      "metadata": {
        "id": "A4Tl9EIveQ73"
      },
      "source": [
        "##Esercizi"
      ]
    },
    {
      "cell_type": "code",
      "execution_count": null,
      "metadata": {
        "scrolled": true,
        "id": "QnoyfNGgeQ73",
        "colab": {
          "base_uri": "https://localhost:8080/",
          "height": 105
        },
        "outputId": "ea59f128-310d-4b85-e8ef-db3a1d55378d"
      },
      "outputs": [
        {
          "output_type": "display_data",
          "data": {
            "text/plain": [
              "<IPython.core.display.Math object>"
            ],
            "text/latex": "$\\displaystyle - 2 q + 2 + \\frac{3}{q}$"
          },
          "metadata": {}
        },
        {
          "output_type": "display_data",
          "data": {
            "text/plain": [
              "<IPython.core.display.Math object>"
            ],
            "text/latex": "$\\displaystyle q=\\left[ \\frac{1}{2} - \\frac{\\sqrt{7}}{2}, \\  \\frac{1}{2} + \\frac{\\sqrt{7}}{2}\\right]$"
          },
          "metadata": {}
        }
      ],
      "source": [
        "# 1) semplificare e risolver per q\n",
        "\n",
        "q = sym.symbols('q')\n",
        "eq = 3*q + 4/q + 3 - 5*q - 1/q - 1\n",
        "\n",
        "display(Math(sym.latex(eq.simplify())))\n",
        "display(Math('q='+sym.latex(sym.solve(eq,q))))"
      ]
    },
    {
      "cell_type": "code",
      "execution_count": null,
      "metadata": {
        "id": "F8zDhKBSeQ73",
        "colab": {
          "base_uri": "https://localhost:8080/",
          "height": 132
        },
        "outputId": "ffac48f4-813c-4928-a67d-08a5b70f39bf"
      },
      "outputs": [
        {
          "output_type": "display_data",
          "data": {
            "text/plain": [
              "<IPython.core.display.Math object>"
            ],
            "text/latex": "$\\displaystyle 3 q^{2} + 2 q - \\frac{5}{q} - \\frac{4}{q^{3}}$"
          },
          "metadata": {}
        },
        {
          "output_type": "display_data",
          "data": {
            "text/plain": [
              "<IPython.core.display.Math object>"
            ],
            "text/latex": "$\\displaystyle 3 q^{2} + 2 q - \\frac{5}{q} - \\frac{4}{q^{3}}$"
          },
          "metadata": {}
        },
        {
          "output_type": "display_data",
          "data": {
            "text/plain": [
              "<IPython.core.display.Math object>"
            ],
            "text/latex": "$\\displaystyle \\frac{3 q^{5} + 2 q^{4} - 5 q^{2} - 4}{q^{3}}$"
          },
          "metadata": {}
        }
      ],
      "source": [
        "# 2)\n",
        "\n",
        "eq = 2*q + 3*q**2 - 5/q - 4/q**3\n",
        "\n",
        "display(Math(sym.latex(eq)))\n",
        "display(Math(sym.latex(sym.simplify(eq))))\n",
        "display(Math(sym.latex(sym.cancel(eq)))) # riscrive nella forma p/q con coefficienti interi"
      ]
    },
    {
      "cell_type": "code",
      "execution_count": null,
      "metadata": {
        "id": "tJVOImtxeQ73",
        "colab": {
          "base_uri": "https://localhost:8080/",
          "height": 99
        },
        "outputId": "6e777472-8edc-43f2-a88f-0aa6156984d8"
      },
      "outputs": [
        {
          "output_type": "display_data",
          "data": {
            "text/plain": [
              "<IPython.core.display.Math object>"
            ],
            "text/latex": "$\\displaystyle \\frac{\\sqrt{15} q + \\sqrt{3}}{\\sqrt{10} q + \\sqrt{2}}$"
          },
          "metadata": {}
        },
        {
          "output_type": "display_data",
          "data": {
            "text/plain": [
              "<IPython.core.display.Math object>"
            ],
            "text/latex": "$\\displaystyle \\frac{\\sqrt{6}}{2}$"
          },
          "metadata": {}
        }
      ],
      "source": [
        "# 3) semplificare questa espressione. verificate utilizzando carta e penna\n",
        "\n",
        "expr = (sym.sqrt(3) + sym.sqrt(15)*q) / (sym.sqrt(2) + sym.sqrt(10)*q)\n",
        "display(Math(sym.latex(expr)))\n",
        "display(Math(sym.latex(sym.simplify(expr))))"
      ]
    },
    {
      "cell_type": "code",
      "execution_count": null,
      "metadata": {
        "id": "b2wa98e2eQ73",
        "colab": {
          "base_uri": "https://localhost:8080/",
          "height": 55
        },
        "outputId": "60ad1ad4-0e96-496c-c678-b6cd577fb05d"
      },
      "outputs": [
        {
          "output_type": "execute_result",
          "data": {
            "text/plain": [
              "sqrt(6)/2"
            ],
            "text/latex": "$\\displaystyle \\frac{\\sqrt{6}}{2}$"
          },
          "metadata": {},
          "execution_count": 52
        }
      ],
      "source": [
        "sym.simplify( expr.subs(q,10) )"
      ]
    },
    {
      "cell_type": "code",
      "execution_count": null,
      "metadata": {
        "id": "kj03ezhFeQ73",
        "colab": {
          "base_uri": "https://localhost:8080/",
          "height": 37
        },
        "outputId": "ab8cfea8-ea4c-49d7-c8ec-fd9d9b124f82"
      },
      "outputs": [
        {
          "output_type": "execute_result",
          "data": {
            "text/plain": [
              "1.22474487139159"
            ],
            "text/latex": "$\\displaystyle 1.22474487139159$"
          },
          "metadata": {},
          "execution_count": 53
        }
      ],
      "source": [
        "expr.subs(q,10).evalf()"
      ]
    },
    {
      "cell_type": "markdown",
      "source": [
        "## Sistemi di equazioni"
      ],
      "metadata": {
        "id": "F5dYDI18LDJB"
      }
    },
    {
      "cell_type": "code",
      "execution_count": null,
      "metadata": {
        "id": "rxEVgXaYlYN_",
        "outputId": "b9d61678-2d0c-43be-8167-ad78836dcf8d",
        "colab": {
          "base_uri": "https://localhost:8080/"
        }
      },
      "outputs": [
        {
          "output_type": "execute_result",
          "data": {
            "text/plain": [
              "{x: 1, y: 0}"
            ]
          },
          "metadata": {},
          "execution_count": 57
        }
      ],
      "source": [
        "solve([x + y - 1, x - y - 1], [x,y])"
      ]
    },
    {
      "cell_type": "markdown",
      "metadata": {
        "id": "cu23eEI6lYN_"
      },
      "source": [
        "Risolviamo in termini di altre espressioni simboliche:"
      ]
    },
    {
      "cell_type": "code",
      "execution_count": null,
      "metadata": {
        "id": "95cS9XZUlYN_",
        "outputId": "2058b702-ddf0-4575-e536-9b4f31ada7f3",
        "colab": {
          "base_uri": "https://localhost:8080/"
        }
      },
      "outputs": [
        {
          "output_type": "execute_result",
          "data": {
            "text/plain": [
              "{x: a/2 + c/2, y: a/2 - c/2}"
            ]
          },
          "metadata": {},
          "execution_count": 59
        }
      ],
      "source": [
        "from sympy.abc import a, b, c\n",
        "solve([x + y - a, x - y - c], [x,y])"
      ]
    },
    {
      "cell_type": "markdown",
      "source": [
        "## Risolvere disequazioni"
      ],
      "metadata": {
        "id": "_-PPp-Ec2__k"
      }
    },
    {
      "cell_type": "code",
      "execution_count": null,
      "metadata": {
        "id": "MDqj9iz7eQ8H",
        "colab": {
          "base_uri": "https://localhost:8080/",
          "height": 38
        },
        "outputId": "832f2964-69fc-4f98-d4c2-0fbe7e1038ae"
      },
      "outputs": [
        {
          "output_type": "execute_result",
          "data": {
            "text/plain": [
              "(2 < x) & (x < oo)"
            ],
            "text/latex": "$\\displaystyle 2 < x \\wedge x < \\infty$"
          },
          "metadata": {},
          "execution_count": 61
        }
      ],
      "source": [
        "x = sym.symbols('x')\n",
        "\n",
        "expr = 4*x > 8\n",
        "sym.solve(expr)"
      ]
    },
    {
      "cell_type": "code",
      "execution_count": null,
      "metadata": {
        "id": "uCExk9D8eQ8H",
        "colab": {
          "base_uri": "https://localhost:8080/",
          "height": 38
        },
        "outputId": "21f4147e-0c13-4832-b148-b907226ec951"
      },
      "outputs": [
        {
          "output_type": "display_data",
          "data": {
            "text/plain": [
              "<IPython.core.display.Math object>"
            ],
            "text/latex": "$\\displaystyle 2 < x \\wedge x < \\infty$"
          },
          "metadata": {}
        }
      ],
      "source": [
        "display(Math(sym.latex(sym.solve(expr))))"
      ]
    },
    {
      "cell_type": "code",
      "execution_count": null,
      "metadata": {
        "id": "nFbnt0UHeQ8H",
        "colab": {
          "base_uri": "https://localhost:8080/",
          "height": 38
        },
        "outputId": "cb07f793-540f-4849-dc4c-0971b2b2ad8f"
      },
      "outputs": [
        {
          "output_type": "display_data",
          "data": {
            "text/plain": [
              "<IPython.core.display.Math object>"
            ],
            "text/latex": "$\\displaystyle \\left(-\\infty < x \\wedge x < -3\\right) \\vee \\left(1 < x \\wedge x < \\infty\\right)$"
          },
          "metadata": {}
        }
      ],
      "source": [
        "expr = (x-1)*(x+3) > 0\n",
        "\n",
        "display(Math(sym.latex(sym.solve(expr))))"
      ]
    },
    {
      "cell_type": "code",
      "execution_count": null,
      "metadata": {
        "id": "MNeYBJT5eQ8H",
        "colab": {
          "base_uri": "https://localhost:8080/",
          "height": 91
        },
        "outputId": "5c569d8f-dc2b-404e-daf9-c2045803fd9e"
      },
      "outputs": [
        {
          "output_type": "display_data",
          "data": {
            "text/plain": [
              "<IPython.core.display.Math object>"
            ],
            "text/latex": "$\\displaystyle a x > \\frac{b^{2}}{c}$"
          },
          "metadata": {}
        },
        {
          "output_type": "execute_result",
          "data": {
            "text/plain": [
              "a*x > b**2/c"
            ],
            "text/latex": "$\\displaystyle a x > \\frac{b^{2}}{c}$"
          },
          "metadata": {},
          "execution_count": 11
        }
      ],
      "source": [
        "# sym.solve will return the expression if not enough information\n",
        "\n",
        "a,b,c = sym.symbols('a,b,c')\n",
        "\n",
        "expr = a*x > b**2/c\n",
        "display(Math(sym.latex(expr)))\n",
        "\n",
        "sym.solve(expr,x)"
      ]
    },
    {
      "cell_type": "code",
      "execution_count": null,
      "metadata": {
        "id": "cxYUDIRQeQ8H",
        "colab": {
          "base_uri": "https://localhost:8080/",
          "height": 38
        },
        "outputId": "5907629f-767f-4268-85cd-a8bb7e3c1b8e"
      },
      "outputs": [
        {
          "output_type": "execute_result",
          "data": {
            "text/plain": [
              "((-oo < x) & (x < -2)) | ((2 < x) & (x < oo))"
            ],
            "text/latex": "$\\displaystyle \\left(-\\infty < x \\wedge x < -2\\right) \\vee \\left(2 < x \\wedge x < \\infty\\right)$"
          },
          "metadata": {},
          "execution_count": 67
        }
      ],
      "source": [
        "# a slightly richer problem\n",
        "sym.solve( 2*x**2>8 )"
      ]
    },
    {
      "cell_type": "markdown",
      "metadata": {
        "id": "PskDAFSIeQ8H"
      },
      "source": [
        "### Esercizio"
      ]
    },
    {
      "cell_type": "code",
      "execution_count": null,
      "metadata": {
        "id": "T0HvcvBteQ8I",
        "colab": {
          "base_uri": "https://localhost:8080/",
          "height": 85
        },
        "outputId": "cf411577-237b-4d6e-b7bb-3a8999cf63de"
      },
      "outputs": [
        {
          "output_type": "display_data",
          "data": {
            "text/plain": [
              "<IPython.core.display.Math object>"
            ],
            "text/latex": "$\\displaystyle \\frac{4}{3} - \\frac{x}{6} \\leq \\frac{5 x}{4} - \\frac{1}{2}$"
          },
          "metadata": {}
        },
        {
          "output_type": "execute_result",
          "data": {
            "text/plain": [
              "(22/17 <= x) & (x < oo)"
            ],
            "text/latex": "$\\displaystyle \\frac{22}{17} \\leq x \\wedge x < \\infty$"
          },
          "metadata": {},
          "execution_count": 30
        }
      ],
      "source": [
        "expr = (3*x/2) + (4-5*x)/3 <= 2 - (5*(2-x))/4\n",
        "\n",
        "display(Math(sym.latex(expr)))\n",
        "sym.solve(expr)"
      ]
    },
    {
      "cell_type": "code",
      "source": [
        "from sympy import Symbol, nsolve\n",
        "x1 = Symbol('x1')\n",
        "x2 = Symbol('x2')\n",
        "f1 = 3 * x1**2 - 2 * x2**2 - 1\n",
        "f2 = x1**2 - 2 * x1 + x2**2 + 2 * x2 - 8\n",
        "print(nsolve((f1, f2), (x1, x2), (-1, 1)))"
      ],
      "metadata": {
        "colab": {
          "base_uri": "https://localhost:8080/"
        },
        "id": "ty-kKSefLGi2",
        "outputId": "fabb6ea9-8a07-4d5d-b650-5028f417fd0f"
      },
      "execution_count": null,
      "outputs": [
        {
          "output_type": "stream",
          "name": "stdout",
          "text": [
            "Matrix([[-1.19287309935246], [1.27844411169911]])\n"
          ]
        }
      ]
    },
    {
      "cell_type": "markdown",
      "source": [
        "## Calcolare il dominio naturale di una espressione\n",
        "\n",
        "Possiamo usare anche la funzione continuous_domain per determinare il dominio continuo di una funzione simbolica. Questo significa che restituirà l'insieme dei valori per i quali la funzione è definita e continua"
      ],
      "metadata": {
        "id": "yl1-v4FSuO4S"
      }
    },
    {
      "cell_type": "code",
      "source": [
        "import sympy as sym\n",
        "\n",
        "x = sym.Symbol('x')\n",
        "f = sym.sqrt(1 - sym.ln(x - x**2))\n",
        "\n",
        "print(continuous_domain(f, x, sym.Reals))\n"
      ],
      "metadata": {
        "colab": {
          "base_uri": "https://localhost:8080/"
        },
        "id": "WPgZntU5vLlv",
        "outputId": "5a86e5b2-2c0a-4160-fe6d-6b452d9b3687"
      },
      "execution_count": null,
      "outputs": [
        {
          "output_type": "stream",
          "name": "stdout",
          "text": [
            "Interval.open(0, 1)\n"
          ]
        }
      ]
    },
    {
      "cell_type": "code",
      "source": [],
      "metadata": {
        "colab": {
          "base_uri": "https://localhost:8080/",
          "height": 37
        },
        "id": "oe5zIF7Wt0GC",
        "outputId": "74639f0f-7ca7-4625-c268-f40fb6bdeaf7"
      },
      "execution_count": null,
      "outputs": [
        {
          "output_type": "execute_result",
          "data": {
            "text/plain": [
              "Interval.open(0, 1)"
            ],
            "text/latex": "$\\displaystyle \\left(0, 1\\right)$"
          },
          "metadata": {},
          "execution_count": 33
        }
      ]
    },
    {
      "cell_type": "code",
      "source": [
        "import sympy as sym\n",
        "from sympy.calculus.util import continuous_domain\n",
        "\n",
        "x = sym.Symbol('x')\n",
        "f = sym.log(3 + 2 * sym.cos(x) - sym.cos(x) ** 2)\n",
        "\n",
        "display(Math(sym.latex(f)))\n",
        "continuous_domain(sym.log(3 + 2 * sym.cos(x) - sym.cos(x) ** 2), x, sym.Reals)\n"
      ],
      "metadata": {
        "colab": {
          "base_uri": "https://localhost:8080/",
          "height": 60
        },
        "id": "5sBC7bnqC5Bp",
        "outputId": "ab9c959e-57da-4b30-b9ee-a04beeb58834"
      },
      "execution_count": null,
      "outputs": [
        {
          "output_type": "display_data",
          "data": {
            "text/plain": [
              "<IPython.core.display.Math object>"
            ],
            "text/latex": "$\\displaystyle \\log{\\left(- \\cos^{2}{\\left(x \\right)} + 2 \\cos{\\left(x \\right)} + 3 \\right)}$"
          },
          "metadata": {}
        },
        {
          "output_type": "execute_result",
          "data": {
            "text/plain": [
              "Union(Complement(Interval.Ropen(0, pi), ImageSet(Lambda(_n, 2*_n*pi + pi), Integers)), Complement(Interval.open(pi, 2*pi), ImageSet(Lambda(_n, 2*_n*pi + pi), Integers)))"
            ],
            "text/latex": "$\\displaystyle \\left(\\left[0, \\pi\\right) \\setminus \\left\\{2 n \\pi + \\pi\\; \\middle|\\; n \\in \\mathbb{Z}\\right\\}\\right) \\cup \\left(\\left(\\pi, 2 \\pi\\right) \\setminus \\left\\{2 n \\pi + \\pi\\; \\middle|\\; n \\in \\mathbb{Z}\\right\\}\\right)$"
          },
          "metadata": {},
          "execution_count": 32
        }
      ]
    },
    {
      "cell_type": "markdown",
      "source": [
        "## Esercizi da svolgere\n",
        "\n",
        "Creare uno script python per risolvere le seguenti equazioni/disequazioni:\n",
        "\n",
        "* $x^3 - 3x^2 - x + 3 <= 0$\n",
        "* $x^4 - 4x^3 + 4x^2 - 4 >= 0$\n",
        "* $abs(x^2 + x) > 2x + 2 $\n",
        "* $log_3(x) = log_3(2) - log_3(x + 1)$\n",
        "* $3^2x - 3^x - 5 = 0$\n",
        "\n",
        "Inoltre, creare uno script python per determinare il dominio naturale di ognuna delle espressioni analitiche svolte in classe.\n"
      ],
      "metadata": {
        "id": "XunQurNAHyi4"
      }
    }
  ],
  "metadata": {
    "kernelspec": {
      "display_name": "Python 3",
      "language": "python",
      "name": "python3"
    },
    "language_info": {
      "codemirror_mode": {
        "name": "ipython",
        "version": 3
      },
      "file_extension": ".py",
      "mimetype": "text/x-python",
      "name": "python",
      "nbconvert_exporter": "python",
      "pygments_lexer": "ipython3",
      "version": "3.7.4"
    },
    "colab": {
      "provenance": [],
      "include_colab_link": true
    }
  },
  "nbformat": 4,
  "nbformat_minor": 0
}