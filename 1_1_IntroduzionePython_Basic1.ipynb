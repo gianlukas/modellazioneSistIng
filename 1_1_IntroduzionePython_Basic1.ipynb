{
  "nbformat": 4,
  "nbformat_minor": 0,
  "metadata": {
    "colab": {
      "provenance": [],
      "authorship_tag": "ABX9TyMOk4LulkSDIeB2+HGubJ25",
      "include_colab_link": true
    },
    "kernelspec": {
      "name": "python3",
      "display_name": "Python 3"
    },
    "language_info": {
      "name": "python"
    }
  },
  "cells": [
    {
      "cell_type": "markdown",
      "metadata": {
        "id": "view-in-github",
        "colab_type": "text"
      },
      "source": [
        "<a href=\"https://colab.research.google.com/github/gianlukas/modellazioneSistIng/blob/main/1_1_IntroduzionePython_Basic1.ipynb\" target=\"_parent\"><img src=\"https://colab.research.google.com/assets/colab-badge.svg\" alt=\"Open In Colab\"/></a>"
      ]
    },
    {
      "cell_type": "markdown",
      "source": [
        "# Introduzione a Python\n",
        "\n",
        "Le basi della programmazione in Python.\n",
        "Come sempre, non si può non iniziare dal seguente comando 🌞"
      ],
      "metadata": {
        "id": "s3j2nWfABDnk"
      }
    },
    {
      "cell_type": "code",
      "execution_count": null,
      "metadata": {
        "colab": {
          "base_uri": "https://localhost:8080/"
        },
        "id": "JaARelpNA6JT",
        "outputId": "80f3a317-488a-4c6a-b8fe-1ff7f0b6b030"
      },
      "outputs": [
        {
          "output_type": "stream",
          "name": "stdout",
          "text": [
            "Hello, world!\n"
          ]
        }
      ],
      "source": [
        "print(\"Hello, world!\")"
      ]
    },
    {
      "cell_type": "markdown",
      "source": [
        "## Variabili\n",
        "\n",
        "*Le variabili in Python possono contenere lettere (minuscole o maiuscole), numeri 0-9 e alcuni caratteri speciali come il carattere di sottolineatura. I nomi delle variabili dovrebbero iniziare con una lettera. Attenzione a non utilizzare come nomi delle variabili le parole riservate in Python.*"
      ],
      "metadata": {
        "id": "xbrlyv1PDc5T"
      }
    },
    {
      "cell_type": "code",
      "source": [
        "# assign some variables\n",
        "x = 7 # integer assignment of the integer 7\n",
        "y = 7.0 # floating point assignment of the decimal number 7.0\n",
        "print(\"The variable x is\",x,\" and has type\", type(x),\". \\n\")\n",
        "print(\"The variable y is\",y,\" and has type\", type(y),\". \\n\")"
      ],
      "metadata": {
        "colab": {
          "base_uri": "https://localhost:8080/"
        },
        "id": "a5MXdI1wD35b",
        "outputId": "f28b685a-1772-4cc2-ea47-09d8a85cb1df"
      },
      "execution_count": null,
      "outputs": [
        {
          "output_type": "stream",
          "name": "stdout",
          "text": [
            "The variable x is 7  and has type <class 'int'> . \n",
            "\n",
            "The variable y is 7.0  and has type <class 'float'> . \n",
            "\n"
          ]
        }
      ]
    },
    {
      "cell_type": "code",
      "source": [
        "# multiplying by a float will convert an integer to a float\n",
        "x = 7 # integer assignment of the integer 7\n",
        "print(\"Multiplying x by 1.0 gives\",1.0*x)\n",
        "print(\"The type of this value is\", type(1.0*x),\". \\n\")"
      ],
      "metadata": {
        "colab": {
          "base_uri": "https://localhost:8080/"
        },
        "id": "9T3h8Gv7EAcV",
        "outputId": "265d8269-b1e8-4637-9d63-8b5194bb3217"
      },
      "execution_count": null,
      "outputs": [
        {
          "output_type": "stream",
          "name": "stdout",
          "text": [
            "Multiplying x by 1.0 gives 7.0\n",
            "The type of this value is <class 'float'> . \n",
            "\n"
          ]
        }
      ]
    },
    {
      "cell_type": "markdown",
      "source": [
        "Le operazioni matematiche consentite sono:\n",
        "\n",
        "\n",
        "*   Addition: +\n",
        "*   Subtraction: -\n",
        "*   Multiplication: *\n",
        "*   Division: /\n",
        "*   Integer Division (modular division): //\n",
        "*   Exponents: **"
      ],
      "metadata": {
        "id": "H-gfXiQ8EJuA"
      }
    },
    {
      "cell_type": "code",
      "source": [
        "x = 7.0\n",
        "y = x**2 # square the value in x\n",
        "print(y)"
      ],
      "metadata": {
        "colab": {
          "base_uri": "https://localhost:8080/"
        },
        "id": "Rse727DREHH0",
        "outputId": "34c6b920-5c1e-406a-8d27-8e97a8a49c2b"
      },
      "execution_count": null,
      "outputs": [
        {
          "output_type": "stream",
          "name": "stdout",
          "text": [
            "49.0\n"
          ]
        }
      ]
    },
    {
      "cell_type": "markdown",
      "source": [
        "### Esercizio\n",
        "Scriviamo il codice per definire tre numeri interi positivi a, b e c. Quindi calcoliamo a^2, b^2 e c^2. Dopo aver calcolato i tre i valori, controlliamo se tali valori formano una tripla pitagorica, cioè: a^2 + b^2 = c^2."
      ],
      "metadata": {
        "id": "ZhJuz2_gFfX1"
      }
    },
    {
      "cell_type": "code",
      "source": [
        "# Define positive integers a, b, and c\n",
        "a = 2\n",
        "b = 4\n",
        "c = 5\n",
        "\n",
        "# Calculate a^2, b^2, and c^2\n",
        "a_squared = a ** 2\n",
        "b_squared = b ** 2\n",
        "c_squared = c ** 2\n",
        "\n",
        "# Check if the values form a Pythagorean Triple\n",
        "is_pythagorean_triple = (a_squared + b_squared == c_squared)\n",
        "\n",
        "# Print the results\n",
        "print(f\"a^2 = {a_squared}, b^2 = {b_squared}, c^2 = {c_squared}\")\n",
        "if is_pythagorean_triple:\n",
        "    print(\"The values form a Pythagorean Triple.\")\n",
        "else:\n",
        "    print(\"The values do not form a Pythagorean Triple.\")\n"
      ],
      "metadata": {
        "colab": {
          "base_uri": "https://localhost:8080/"
        },
        "id": "ULNfF_wHF-K6",
        "outputId": "2a2026ed-5167-4247-af97-79f7231c53d1"
      },
      "execution_count": null,
      "outputs": [
        {
          "output_type": "stream",
          "name": "stdout",
          "text": [
            "a^2 = 4, b^2 = 16, c^2 = 25\n",
            "The values do not form a Pythagorean Triple.\n"
          ]
        }
      ]
    },
    {
      "cell_type": "markdown",
      "source": [
        "## Indici e Liste\n",
        "\n",
        "Gli elenchi sono un componente chiave per archiviare i dati in Python. Le liste sono elenchi di \"cose\" (nel nostro caso, queste \"cose\" sono numeri in virgola mobile).\n",
        "Attenzione: l'indicizzazione di Python inizia da 0 mentre altri linguaggi di programmazione avere un'indicizzazione che inizia da 1. In altre parole, la prima voce di un elenco ha indice 0, la seconda voce come indice 1 e così via.\n",
        "\n",
        "Possiamo estrarre una parte di un elenco utilizzando la sintassi **name[start:stop]** che estrae gli elementi tra l'indice *start* e l'indice *stop-1*."
      ],
      "metadata": {
        "id": "L0WBCIg2GHkY"
      }
    },
    {
      "cell_type": "code",
      "source": [
        "# Create the list of numbers 0 through 8 and then print only the element with index 0.\n",
        "MyList = [0,1,2,3,4,5,6,7,8]\n",
        "print(MyList[0])"
      ],
      "metadata": {
        "colab": {
          "base_uri": "https://localhost:8080/"
        },
        "id": "QF6hXpQiG4Su",
        "outputId": "5120004d-4408-4253-c386-00eb4457828f"
      },
      "execution_count": null,
      "outputs": [
        {
          "output_type": "stream",
          "name": "stdout",
          "text": [
            "0\n"
          ]
        }
      ]
    },
    {
      "cell_type": "code",
      "source": [
        "# Print all elements up to, but not including, the third element of MyList.\n",
        "MyList = [0,1,2,3,4,5,6,7,8]\n",
        "print(MyList[:2])"
      ],
      "metadata": {
        "colab": {
          "base_uri": "https://localhost:8080/"
        },
        "id": "GeuaX8s1KE6E",
        "outputId": "9f83851d-4508-44e2-8d4b-683084277b48"
      },
      "execution_count": null,
      "outputs": [
        {
          "output_type": "stream",
          "name": "stdout",
          "text": [
            "[0, 1]\n"
          ]
        }
      ]
    },
    {
      "cell_type": "code",
      "source": [
        "#Print the last element of MyList (this is a handy trick!).\n",
        "MyList = [0,1,2,3,4,5,6,7,8]\n",
        "print(MyList[-1])"
      ],
      "metadata": {
        "colab": {
          "base_uri": "https://localhost:8080/"
        },
        "id": "T6OiIegIKPbX",
        "outputId": "bf4f6bb1-d468-45ce-f7c7-ba9a555bfee7"
      },
      "execution_count": null,
      "outputs": [
        {
          "output_type": "stream",
          "name": "stdout",
          "text": [
            "8\n"
          ]
        }
      ]
    },
    {
      "cell_type": "code",
      "source": [
        "#Print the elements indexed 1 through 4. Beware! This is not the first through fifth element.\n",
        "MyList = [0,1,2,3,4,5,6,7,8]\n",
        "print(MyList[1:5])\n",
        "\n",
        "#Print every other element in the list starting with the first.\n",
        "MyList = [0,1,2,3,4,5,6,7,8]\n",
        "print(MyList[0::2])\n",
        "\n",
        "#Print the last three elements of MyList\n",
        "MyList = [0,1,2,3,4,5,6,7,8]\n",
        "print(MyList[-3:])"
      ],
      "metadata": {
        "colab": {
          "base_uri": "https://localhost:8080/"
        },
        "id": "COVXckHEKa2R",
        "outputId": "418bd09c-bd4d-449d-eba0-1a70cec8e438"
      },
      "execution_count": null,
      "outputs": [
        {
          "output_type": "stream",
          "name": "stdout",
          "text": [
            "[1, 2, 3, 4]\n",
            "[0, 2, 4, 6, 8]\n",
            "[6, 7, 8]\n"
          ]
        }
      ]
    },
    {
      "cell_type": "code",
      "source": [
        "# range is a handy command for creating a sequence of integers\n",
        "MySecondList = range(4,20)\n",
        "print(MySecondList) # this is a \"range object\" in Python.\n",
        "# When using range() we won't actually store all of the values in memory.\n",
        "print(list(MySecondList))\n",
        "# notice that we didn't create the last element!"
      ],
      "metadata": {
        "colab": {
          "base_uri": "https://localhost:8080/"
        },
        "id": "eyE4nxYZKtuf",
        "outputId": "087e5284-b444-4346-b031-dd9baee17c72"
      },
      "execution_count": null,
      "outputs": [
        {
          "output_type": "stream",
          "name": "stdout",
          "text": [
            "range(4, 20)\n",
            "[4, 5, 6, 7, 8, 9, 10, 11, 12, 13, 14, 15, 16, 17, 18, 19]\n"
          ]
        }
      ]
    },
    {
      "cell_type": "markdown",
      "source": [
        "In Python, gli elementi di una lista non devono necessariamente essere dello stesso tipo. Si possono mescolare numeri interi, float, stringhe, liste, ecc. In questo esempio vediamo un elenco di diversi elementi che hanno diversi tipi di dati: un float, un intero, una stringa e un numero complesso. Nota che il numero immaginario i è rappresentato da 1j in Python."
      ],
      "metadata": {
        "id": "t14OKSwIK3nL"
      }
    },
    {
      "cell_type": "code",
      "source": [
        "MixedList = [1.0, 7, 'Bob', 1-5j]\n",
        "print(MixedList)\n",
        "print(type(MixedList[0]))\n",
        "print(type(MixedList[1]))\n",
        "print(type(MixedList[2]))\n",
        "print(type(MixedList[3]))"
      ],
      "metadata": {
        "colab": {
          "base_uri": "https://localhost:8080/"
        },
        "id": "Aj_uYr9iK6xx",
        "outputId": "1cfe246b-fcd0-4bbe-acf1-992369589e06"
      },
      "execution_count": null,
      "outputs": [
        {
          "output_type": "stream",
          "name": "stdout",
          "text": [
            "[1.0, 7, 'Bob', (1-5j)]\n",
            "<class 'float'>\n",
            "<class 'int'>\n",
            "<class 'str'>\n",
            "<class 'complex'>\n"
          ]
        }
      ]
    },
    {
      "cell_type": "markdown",
      "source": [
        "### Esercizio\n",
        "\n",
        "1. Crea l'elenco dei primi numeri di Fibonacci: 1, 1, 2, 3, 5, 8, 13, 21, 34, 55, 89.\n",
        "2. Stampa i primi quattro elementi dell'elenco.\n",
        "3. Stampa ogni terzo elemento della lista a partire dal primo.\n",
        "4. Stampa l'ultimo elemento della lista.\n",
        "5. Stampa l'elenco in ordine inverso.\n",
        "6. Stampa l'elenco iniziando dall'ultimo elemento e contando all'indietro da ogni altro elemento."
      ],
      "metadata": {
        "id": "HP3-OCnULjZg"
      }
    },
    {
      "cell_type": "code",
      "source": [
        "# Soluzione #1\n",
        "\n",
        "# a. Create the list of the first several Fibonacci numbers\n",
        "fibonacci = [1, 1, 2, 3, 5, 8, 13, 21, 34, 55, 89]\n",
        "\n",
        "# b. Print the first four elements of the list\n",
        "print(\"First four elements:\", fibonacci[:4])\n",
        "\n",
        "# c. Print every third element of the list starting from the first\n",
        "print(\"Every third element starting from the first:\", fibonacci[::3])\n",
        "\n",
        "# d. Print the last element of the list\n",
        "print(\"Last element:\", fibonacci[-1])\n",
        "\n",
        "# e. Print the list in reverse order\n",
        "print(\"List in reverse order:\", fibonacci[::-1])\n",
        "\n",
        "# f. Print the list starting at the last element and counting backward by every other element\n",
        "print(\"List starting at the last element and counting backward by every other element:\", fibonacci[::-2])\n"
      ],
      "metadata": {
        "colab": {
          "base_uri": "https://localhost:8080/"
        },
        "id": "_Sspdb0gMDcz",
        "outputId": "bee37a27-3e6b-47ce-e628-3ed35fa31d9f"
      },
      "execution_count": null,
      "outputs": [
        {
          "output_type": "stream",
          "name": "stdout",
          "text": [
            "First four elements: [1, 1, 2, 3]\n",
            "Every third element starting from the first: [1, 3, 13, 55]\n",
            "Last element: 89\n",
            "List in reverse order: [89, 55, 34, 21, 13, 8, 5, 3, 2, 1, 1]\n",
            "List starting at the last element and counting backward by every other element: [89, 34, 13, 5, 2, 1]\n"
          ]
        }
      ]
    },
    {
      "cell_type": "code",
      "source": [
        "# Soluzione più flessibile\n",
        "\n",
        "# a. Create the list of the first 11 Fibonacci numbers\n",
        "fibonacci = [1, 1]\n",
        "while len(fibonacci) < 11:  # Generating the first 11 Fibonacci numbers\n",
        "    fibonacci.append(fibonacci[-1] + fibonacci[-2])\n",
        "\n",
        "# b. Print the first four elements of the list\n",
        "print(\"First four elements:\", fibonacci[:4])\n",
        "\n",
        "# c. Print every third element of the list starting from the first\n",
        "print(\"Every third element starting from the first:\", fibonacci[::3])\n",
        "\n",
        "# d. Print the last element of the list\n",
        "print(\"Last element:\", fibonacci[-1])\n",
        "\n",
        "# e. Print the list in reverse order\n",
        "print(\"List in reverse order:\", fibonacci[::-1])\n",
        "\n",
        "# f. Print the list starting at the last element and counting backward by every other element\n",
        "print(\"List starting at the last element and counting backward by every other element:\", fibonacci[::-2])\n"
      ],
      "metadata": {
        "id": "8MtJgZJqLuhO"
      },
      "execution_count": null,
      "outputs": []
    },
    {
      "cell_type": "markdown",
      "source": [
        "## Operazioni sulle liste\n",
        "\n",
        "E' molto semplice effettuare operazioni sulle liste (es. aggiungere, rimuovere elementi dagli elenchi).\n",
        "\n",
        "La sintassi utilizzata è del tipo: **variable.command** in cui:\n",
        "variable = nome della variabile,\n",
        "command = l'operazione che si vuole fare su quella variabile.\n",
        "\n",
        "Ad esempio, MyList.append(7) aggiungerà il numero 7 all'elenco MyList. Questa è una funzionalità di programmazione comune in Python e la useremo spesso."
      ],
      "metadata": {
        "id": "yVXRI4tyLtSq"
      }
    },
    {
      "cell_type": "code",
      "source": [
        "#Esempio\n",
        "\n",
        "MyList = [0,1,2,3]\n",
        "print(MyList) # print the list content\n",
        "\n",
        "MyList.append('a') # append the string 'a' to the end of the list\n",
        "print(MyList)\n",
        "\n",
        "MyList.remove('a') # remove the first instance of `a` from the list\n",
        "print(MyList)\n",
        "\n",
        "MyList.remove(3) # now let's remove the 3\n",
        "print(MyList)"
      ],
      "metadata": {
        "colab": {
          "base_uri": "https://localhost:8080/"
        },
        "id": "Fwy_loXvNN-R",
        "outputId": "790b1612-e36f-4374-cf3e-1a01a89969f7"
      },
      "execution_count": null,
      "outputs": [
        {
          "output_type": "stream",
          "name": "stdout",
          "text": [
            "[0, 1, 2, 3]\n",
            "[0, 1, 2, 3, 'a']\n",
            "[0, 1, 2, 3]\n",
            "[0, 1, 2]\n"
          ]
        }
      ]
    },
    {
      "cell_type": "markdown",
      "source": [
        "### Esercizio\n",
        "\n",
        "\n",
        "\n",
        "1. Crea l'elenco dei primi numeri di Lucas: 1, 3, 4, 7, 11, 18, 29, 47.\n",
        "2. Aggiungi i successivi tre numeri di Lucas alla fine dell'elenco.\n",
        "3. Rimuovere il numero 3 dall'elenco.\n",
        "4. Inserisci nuovamente i 3 nell'elenco nel punto corretto.\n",
        "5. Stampa l'elenco in ordine inverso.\n",
        "6. Esegui alcune altre operazioni di elenco su questo elenco e segnala i risultati."
      ],
      "metadata": {
        "id": "KDH4mjW6NvEF"
      }
    },
    {
      "cell_type": "markdown",
      "source": [
        "## Tuple\n",
        "\n",
        "In Python, una “tupla” è come una coppia ordinata (o una tripla, o quadrupla ordinata, ...) secondo qualche criterio matematico."
      ],
      "metadata": {
        "id": "y0HFIvgBPB5e"
      }
    },
    {
      "cell_type": "code",
      "source": [
        "point = (10, 20) # we define the tuple with parenthesis\n",
        "print(point, type(point))"
      ],
      "metadata": {
        "colab": {
          "base_uri": "https://localhost:8080/"
        },
        "id": "XEF_zyS_PBNL",
        "outputId": "f44c7d0f-b91d-457c-8bd3-1b43c6ec66fd"
      },
      "execution_count": null,
      "outputs": [
        {
          "output_type": "stream",
          "name": "stdout",
          "text": [
            "(10, 20) <class 'tuple'>\n"
          ]
        }
      ]
    },
    {
      "cell_type": "markdown",
      "source": [
        "Se lo desideriamo, possiamo scompattare la tupla in componenti, in modo da poter effettuare operazioni su ciascuna di essi"
      ],
      "metadata": {
        "id": "3he7YfCFPlXh"
      }
    },
    {
      "cell_type": "code",
      "source": [
        "point = (10, 20)\n",
        "x, y = point\n",
        "print(\"x = \", x)\n",
        "print(\"y = \", y)"
      ],
      "metadata": {
        "colab": {
          "base_uri": "https://localhost:8080/"
        },
        "id": "1Zf1WN40N564",
        "outputId": "1d278314-eab9-4465-95ae-362642c90ca5"
      },
      "execution_count": null,
      "outputs": [
        {
          "output_type": "stream",
          "name": "stdout",
          "text": [
            "x =  10\n",
            "y =  20\n"
          ]
        }
      ]
    }
  ]
}